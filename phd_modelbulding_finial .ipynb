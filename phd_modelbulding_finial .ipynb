{
 "cells": [
  {
   "cell_type": "markdown",
   "metadata": {},
   "source": [
    "# Predicting credit risk score of customer with different Machine learning models "
   ]
  },
  {
   "cell_type": "code",
   "execution_count": 474,
   "metadata": {},
   "outputs": [],
   "source": [
    "#libraries\n",
    "import os\n",
    "import pandas as pd\n",
    "import numpy as np\n",
    "import pandas_profiling as pp\n",
    "import datetime as dt"
   ]
  },
  {
   "cell_type": "code",
   "execution_count": 475,
   "metadata": {},
   "outputs": [],
   "source": [
    "# Libraries for data visualization\n",
    "import seaborn as sns\n",
    "%matplotlib inline\n",
    "from matplotlib import pyplot as plt\n",
    "from matplotlib import style\n",
    "from pylab import *\n",
    "from mpl_toolkits.mplot3d import Axes3D"
   ]
  },
  {
   "cell_type": "code",
   "execution_count": 476,
   "metadata": {},
   "outputs": [
    {
     "data": {
      "text/plain": [
       "'C:\\\\Users\\\\Navi\\\\Desktop\\\\PHD'"
      ]
     },
     "execution_count": 476,
     "metadata": {},
     "output_type": "execute_result"
    }
   ],
   "source": [
    "#present directory\n",
    "os.getcwd()"
   ]
  },
  {
   "cell_type": "markdown",
   "metadata": {},
   "source": [
    "# loading the data"
   ]
  },
  {
   "cell_type": "code",
   "execution_count": 477,
   "metadata": {},
   "outputs": [],
   "source": [
    "#change of directory \n",
    "os.chdir(\"C:\\\\Users\\\\Navi\\\\Desktop\\\\PHD\")"
   ]
  },
  {
   "cell_type": "code",
   "execution_count": 478,
   "metadata": {},
   "outputs": [],
   "source": [
    "#loading train data \n",
    "train=pd.read_csv(\"train.csv\")"
   ]
  },
  {
   "cell_type": "code",
   "execution_count": 479,
   "metadata": {},
   "outputs": [],
   "source": [
    "#loading train_paymenthistory \n",
    "train_hist=pd.read_csv('Train_PaymentHistory.csv')"
   ]
  },
  {
   "cell_type": "code",
   "execution_count": 480,
   "metadata": {},
   "outputs": [
    {
     "name": "stdout",
     "output_type": "stream",
     "text": [
      "The train data has 11093 rows and 10 columns\n",
      "----------------------------\n",
      "The train_hist data has 269778 rows and 20 columns\n"
     ]
    }
   ],
   "source": [
    "#print no of row and columns in traindata and train_hist \n",
    "print ('The train data has {0} rows and {1} columns'.format(train.shape[0],train.shape[1]))\n",
    "print ('----------------------------')\n",
    "print ('The train_hist data has {0} rows and {1} columns'.format(train_hist.shape[0],train_hist.shape[1]))"
   ]
  },
  {
   "cell_type": "code",
   "execution_count": 481,
   "metadata": {},
   "outputs": [
    {
     "data": {
      "text/html": [
       "<div>\n",
       "<style scoped>\n",
       "    .dataframe tbody tr th:only-of-type {\n",
       "        vertical-align: middle;\n",
       "    }\n",
       "\n",
       "    .dataframe tbody tr th {\n",
       "        vertical-align: top;\n",
       "    }\n",
       "\n",
       "    .dataframe thead th {\n",
       "        text-align: right;\n",
       "    }\n",
       "</style>\n",
       "<table border=\"1\" class=\"dataframe\">\n",
       "  <thead>\n",
       "    <tr style=\"text-align: right;\">\n",
       "      <th></th>\n",
       "      <th>Unnamed: 0</th>\n",
       "      <th>CustomerID</th>\n",
       "      <th>DOB</th>\n",
       "      <th>Salary</th>\n",
       "      <th>ProfessionalLicensure</th>\n",
       "      <th>UtilitySpending</th>\n",
       "      <th>eCommerceAccount</th>\n",
       "      <th>SocialMediaAccount</th>\n",
       "      <th>NoOfProperties</th>\n",
       "      <th>CreditRiskScore</th>\n",
       "    </tr>\n",
       "  </thead>\n",
       "  <tbody>\n",
       "    <tr>\n",
       "      <th>0</th>\n",
       "      <td>0</td>\n",
       "      <td>C12116</td>\n",
       "      <td>1969-04-22</td>\n",
       "      <td>1238.006112</td>\n",
       "      <td>0</td>\n",
       "      <td>492.726433</td>\n",
       "      <td>1</td>\n",
       "      <td>No</td>\n",
       "      <td>2</td>\n",
       "      <td>711</td>\n",
       "    </tr>\n",
       "    <tr>\n",
       "      <th>1</th>\n",
       "      <td>1</td>\n",
       "      <td>C12117</td>\n",
       "      <td>1981-04-24</td>\n",
       "      <td>1633.000000</td>\n",
       "      <td>1</td>\n",
       "      <td>477.870359</td>\n",
       "      <td>1</td>\n",
       "      <td>Yes</td>\n",
       "      <td>1</td>\n",
       "      <td>767</td>\n",
       "    </tr>\n",
       "    <tr>\n",
       "      <th>2</th>\n",
       "      <td>2</td>\n",
       "      <td>C12118</td>\n",
       "      <td>1970-02-10</td>\n",
       "      <td>1489.000000</td>\n",
       "      <td>0</td>\n",
       "      <td>351.593736</td>\n",
       "      <td>1</td>\n",
       "      <td>Yes</td>\n",
       "      <td>1</td>\n",
       "      <td>827</td>\n",
       "    </tr>\n",
       "    <tr>\n",
       "      <th>3</th>\n",
       "      <td>3</td>\n",
       "      <td>C12119</td>\n",
       "      <td>1976-04-22</td>\n",
       "      <td>1241.000000</td>\n",
       "      <td>0</td>\n",
       "      <td>403.589993</td>\n",
       "      <td>1</td>\n",
       "      <td>No</td>\n",
       "      <td>1</td>\n",
       "      <td>795</td>\n",
       "    </tr>\n",
       "    <tr>\n",
       "      <th>4</th>\n",
       "      <td>4</td>\n",
       "      <td>C12120</td>\n",
       "      <td>1975-04-24</td>\n",
       "      <td>1074.000000</td>\n",
       "      <td>1</td>\n",
       "      <td>406.066005</td>\n",
       "      <td>1</td>\n",
       "      <td>No</td>\n",
       "      <td>1</td>\n",
       "      <td>827</td>\n",
       "    </tr>\n",
       "  </tbody>\n",
       "</table>\n",
       "</div>"
      ],
      "text/plain": [
       "   Unnamed: 0 CustomerID         DOB       Salary  ProfessionalLicensure  \\\n",
       "0           0     C12116  1969-04-22  1238.006112                      0   \n",
       "1           1     C12117  1981-04-24  1633.000000                      1   \n",
       "2           2     C12118  1970-02-10  1489.000000                      0   \n",
       "3           3     C12119  1976-04-22  1241.000000                      0   \n",
       "4           4     C12120  1975-04-24  1074.000000                      1   \n",
       "\n",
       "   UtilitySpending  eCommerceAccount SocialMediaAccount  NoOfProperties  \\\n",
       "0       492.726433                 1                 No               2   \n",
       "1       477.870359                 1                Yes               1   \n",
       "2       351.593736                 1                Yes               1   \n",
       "3       403.589993                 1                 No               1   \n",
       "4       406.066005                 1                 No               1   \n",
       "\n",
       "   CreditRiskScore  \n",
       "0              711  \n",
       "1              767  \n",
       "2              827  \n",
       "3              795  \n",
       "4              827  "
      ]
     },
     "execution_count": 481,
     "metadata": {},
     "output_type": "execute_result"
    }
   ],
   "source": [
    "#checking head of train \n",
    "train.head(5)"
   ]
  },
  {
   "cell_type": "code",
   "execution_count": 482,
   "metadata": {},
   "outputs": [
    {
     "data": {
      "text/html": [
       "<div>\n",
       "<style scoped>\n",
       "    .dataframe tbody tr th:only-of-type {\n",
       "        vertical-align: middle;\n",
       "    }\n",
       "\n",
       "    .dataframe tbody tr th {\n",
       "        vertical-align: top;\n",
       "    }\n",
       "\n",
       "    .dataframe thead th {\n",
       "        text-align: right;\n",
       "    }\n",
       "</style>\n",
       "<table border=\"1\" class=\"dataframe\">\n",
       "  <thead>\n",
       "    <tr style=\"text-align: right;\">\n",
       "      <th></th>\n",
       "      <th>Unnamed: 0</th>\n",
       "      <th>CustomerID</th>\n",
       "      <th>Current_Instalment_Sequence</th>\n",
       "      <th>Starting_Instalment</th>\n",
       "      <th>Maturity_Period</th>\n",
       "      <th>Current_Outstanding</th>\n",
       "      <th>Current_Loan_to_Appraisedvalu_Percent</th>\n",
       "      <th>CurrentInterestrate</th>\n",
       "      <th>RealEstate_Current_Inflation</th>\n",
       "      <th>GDP</th>\n",
       "      <th>UnemploymentRate</th>\n",
       "      <th>Asset_type</th>\n",
       "      <th>Urban_Development</th>\n",
       "      <th>Villa_House</th>\n",
       "      <th>Investment_SelfOccupied</th>\n",
       "      <th>Starting_outstanding</th>\n",
       "      <th>Starting_Loan_to_Appraisedvalu_Percent</th>\n",
       "      <th>StartingInterestrate</th>\n",
       "      <th>RealEstate_Starting_Inflation</th>\n",
       "      <th>Payment_Status</th>\n",
       "    </tr>\n",
       "  </thead>\n",
       "  <tbody>\n",
       "    <tr>\n",
       "      <th>0</th>\n",
       "      <td>0</td>\n",
       "      <td>C12116</td>\n",
       "      <td>25</td>\n",
       "      <td>25</td>\n",
       "      <td>113</td>\n",
       "      <td>41303.42</td>\n",
       "      <td>24.498336</td>\n",
       "      <td>9.2</td>\n",
       "      <td>2.2629</td>\n",
       "      <td>2.899137</td>\n",
       "      <td>4.7</td>\n",
       "      <td>No shred services</td>\n",
       "      <td>No</td>\n",
       "      <td>Yes</td>\n",
       "      <td>Self Occupancy</td>\n",
       "      <td>45000.0</td>\n",
       "      <td>69.4</td>\n",
       "      <td>9.2</td>\n",
       "      <td>0.8703</td>\n",
       "      <td>Non-Payoff/Non-Default</td>\n",
       "    </tr>\n",
       "    <tr>\n",
       "      <th>1</th>\n",
       "      <td>1</td>\n",
       "      <td>C12116</td>\n",
       "      <td>26</td>\n",
       "      <td>25</td>\n",
       "      <td>113</td>\n",
       "      <td>41061.95</td>\n",
       "      <td>24.483867</td>\n",
       "      <td>9.2</td>\n",
       "      <td>2.2510</td>\n",
       "      <td>2.151365</td>\n",
       "      <td>4.7</td>\n",
       "      <td>No shred services</td>\n",
       "      <td>No</td>\n",
       "      <td>Yes</td>\n",
       "      <td>Self Occupancy</td>\n",
       "      <td>45000.0</td>\n",
       "      <td>69.4</td>\n",
       "      <td>9.2</td>\n",
       "      <td>0.8703</td>\n",
       "      <td>Non-Payoff/Non-Default</td>\n",
       "    </tr>\n",
       "    <tr>\n",
       "      <th>2</th>\n",
       "      <td>2</td>\n",
       "      <td>C12116</td>\n",
       "      <td>27</td>\n",
       "      <td>25</td>\n",
       "      <td>113</td>\n",
       "      <td>40804.42</td>\n",
       "      <td>24.626795</td>\n",
       "      <td>9.2</td>\n",
       "      <td>2.2239</td>\n",
       "      <td>2.361722</td>\n",
       "      <td>4.4</td>\n",
       "      <td>No shred services</td>\n",
       "      <td>No</td>\n",
       "      <td>Yes</td>\n",
       "      <td>Self Occupancy</td>\n",
       "      <td>45000.0</td>\n",
       "      <td>69.4</td>\n",
       "      <td>9.2</td>\n",
       "      <td>0.8703</td>\n",
       "      <td>Non-Payoff/Non-Default</td>\n",
       "    </tr>\n",
       "    <tr>\n",
       "      <th>3</th>\n",
       "      <td>3</td>\n",
       "      <td>C12116</td>\n",
       "      <td>28</td>\n",
       "      <td>25</td>\n",
       "      <td>113</td>\n",
       "      <td>40483.89</td>\n",
       "      <td>24.735883</td>\n",
       "      <td>9.2</td>\n",
       "      <td>2.1967</td>\n",
       "      <td>1.229172</td>\n",
       "      <td>4.6</td>\n",
       "      <td>No shred services</td>\n",
       "      <td>No</td>\n",
       "      <td>Yes</td>\n",
       "      <td>Self Occupancy</td>\n",
       "      <td>45000.0</td>\n",
       "      <td>69.4</td>\n",
       "      <td>9.2</td>\n",
       "      <td>0.8703</td>\n",
       "      <td>Non-Payoff/Non-Default</td>\n",
       "    </tr>\n",
       "    <tr>\n",
       "      <th>4</th>\n",
       "      <td>4</td>\n",
       "      <td>C12116</td>\n",
       "      <td>29</td>\n",
       "      <td>25</td>\n",
       "      <td>113</td>\n",
       "      <td>40367.06</td>\n",
       "      <td>24.925476</td>\n",
       "      <td>9.2</td>\n",
       "      <td>2.1737</td>\n",
       "      <td>1.692969</td>\n",
       "      <td>4.5</td>\n",
       "      <td>No shred services</td>\n",
       "      <td>No</td>\n",
       "      <td>Yes</td>\n",
       "      <td>Self Occupancy</td>\n",
       "      <td>45000.0</td>\n",
       "      <td>69.4</td>\n",
       "      <td>9.2</td>\n",
       "      <td>0.8703</td>\n",
       "      <td>Non-Payoff/Non-Default</td>\n",
       "    </tr>\n",
       "  </tbody>\n",
       "</table>\n",
       "</div>"
      ],
      "text/plain": [
       "   Unnamed: 0 CustomerID  Current_Instalment_Sequence  Starting_Instalment  \\\n",
       "0           0     C12116                           25                   25   \n",
       "1           1     C12116                           26                   25   \n",
       "2           2     C12116                           27                   25   \n",
       "3           3     C12116                           28                   25   \n",
       "4           4     C12116                           29                   25   \n",
       "\n",
       "   Maturity_Period  Current_Outstanding  \\\n",
       "0              113             41303.42   \n",
       "1              113             41061.95   \n",
       "2              113             40804.42   \n",
       "3              113             40483.89   \n",
       "4              113             40367.06   \n",
       "\n",
       "   Current_Loan_to_Appraisedvalu_Percent  CurrentInterestrate  \\\n",
       "0                              24.498336                  9.2   \n",
       "1                              24.483867                  9.2   \n",
       "2                              24.626795                  9.2   \n",
       "3                              24.735883                  9.2   \n",
       "4                              24.925476                  9.2   \n",
       "\n",
       "   RealEstate_Current_Inflation       GDP  UnemploymentRate  \\\n",
       "0                        2.2629  2.899137               4.7   \n",
       "1                        2.2510  2.151365               4.7   \n",
       "2                        2.2239  2.361722               4.4   \n",
       "3                        2.1967  1.229172               4.6   \n",
       "4                        2.1737  1.692969               4.5   \n",
       "\n",
       "          Asset_type Urban_Development Villa_House Investment_SelfOccupied  \\\n",
       "0  No shred services                No         Yes          Self Occupancy   \n",
       "1  No shred services                No         Yes          Self Occupancy   \n",
       "2  No shred services                No         Yes          Self Occupancy   \n",
       "3  No shred services                No         Yes          Self Occupancy   \n",
       "4  No shred services                No         Yes          Self Occupancy   \n",
       "\n",
       "   Starting_outstanding  Starting_Loan_to_Appraisedvalu_Percent  \\\n",
       "0               45000.0                                    69.4   \n",
       "1               45000.0                                    69.4   \n",
       "2               45000.0                                    69.4   \n",
       "3               45000.0                                    69.4   \n",
       "4               45000.0                                    69.4   \n",
       "\n",
       "   StartingInterestrate  RealEstate_Starting_Inflation          Payment_Status  \n",
       "0                   9.2                         0.8703  Non-Payoff/Non-Default  \n",
       "1                   9.2                         0.8703  Non-Payoff/Non-Default  \n",
       "2                   9.2                         0.8703  Non-Payoff/Non-Default  \n",
       "3                   9.2                         0.8703  Non-Payoff/Non-Default  \n",
       "4                   9.2                         0.8703  Non-Payoff/Non-Default  "
      ]
     },
     "execution_count": 482,
     "metadata": {},
     "output_type": "execute_result"
    }
   ],
   "source": [
    "#checking the train_hist head\n",
    "train_hist.head(5)"
   ]
  },
  {
   "cell_type": "code",
   "execution_count": 483,
   "metadata": {},
   "outputs": [
    {
     "data": {
      "text/html": [
       "<div>\n",
       "<style scoped>\n",
       "    .dataframe tbody tr th:only-of-type {\n",
       "        vertical-align: middle;\n",
       "    }\n",
       "\n",
       "    .dataframe tbody tr th {\n",
       "        vertical-align: top;\n",
       "    }\n",
       "\n",
       "    .dataframe thead th {\n",
       "        text-align: right;\n",
       "    }\n",
       "</style>\n",
       "<table border=\"1\" class=\"dataframe\">\n",
       "  <thead>\n",
       "    <tr style=\"text-align: right;\">\n",
       "      <th></th>\n",
       "      <th>Column_Name</th>\n",
       "      <th>Num_Unique</th>\n",
       "    </tr>\n",
       "  </thead>\n",
       "  <tbody>\n",
       "    <tr>\n",
       "      <th>4</th>\n",
       "      <td>ProfessionalLicensure</td>\n",
       "      <td>2</td>\n",
       "    </tr>\n",
       "    <tr>\n",
       "      <th>6</th>\n",
       "      <td>eCommerceAccount</td>\n",
       "      <td>2</td>\n",
       "    </tr>\n",
       "    <tr>\n",
       "      <th>7</th>\n",
       "      <td>SocialMediaAccount</td>\n",
       "      <td>2</td>\n",
       "    </tr>\n",
       "    <tr>\n",
       "      <th>8</th>\n",
       "      <td>NoOfProperties</td>\n",
       "      <td>4</td>\n",
       "    </tr>\n",
       "    <tr>\n",
       "      <th>5</th>\n",
       "      <td>UtilitySpending</td>\n",
       "      <td>126</td>\n",
       "    </tr>\n",
       "    <tr>\n",
       "      <th>9</th>\n",
       "      <td>CreditRiskScore</td>\n",
       "      <td>481</td>\n",
       "    </tr>\n",
       "    <tr>\n",
       "      <th>2</th>\n",
       "      <td>DOB</td>\n",
       "      <td>708</td>\n",
       "    </tr>\n",
       "    <tr>\n",
       "      <th>3</th>\n",
       "      <td>Salary</td>\n",
       "      <td>8218</td>\n",
       "    </tr>\n",
       "    <tr>\n",
       "      <th>0</th>\n",
       "      <td>Unnamed: 0</td>\n",
       "      <td>11093</td>\n",
       "    </tr>\n",
       "    <tr>\n",
       "      <th>1</th>\n",
       "      <td>CustomerID</td>\n",
       "      <td>11093</td>\n",
       "    </tr>\n",
       "  </tbody>\n",
       "</table>\n",
       "</div>"
      ],
      "text/plain": [
       "             Column_Name  Num_Unique\n",
       "4  ProfessionalLicensure           2\n",
       "6       eCommerceAccount           2\n",
       "7     SocialMediaAccount           2\n",
       "8         NoOfProperties           4\n",
       "5        UtilitySpending         126\n",
       "9        CreditRiskScore         481\n",
       "2                    DOB         708\n",
       "3                 Salary        8218\n",
       "0             Unnamed: 0       11093\n",
       "1             CustomerID       11093"
      ]
     },
     "execution_count": 483,
     "metadata": {},
     "output_type": "execute_result"
    }
   ],
   "source": [
    "# checking no of unique nums in each columns\n",
    "unique_counts = pd.DataFrame.from_records([(col, train[col].nunique()) for col in train.columns],\n",
    "                          columns=['Column_Name', 'Num_Unique']).sort_values(by=['Num_Unique'])\n",
    "unique_counts"
   ]
  },
  {
   "cell_type": "markdown",
   "metadata": {},
   "source": [
    "# Groping the coustumerID in payment history with max Current_Instalment_Sequence"
   ]
  },
  {
   "cell_type": "code",
   "execution_count": 484,
   "metadata": {},
   "outputs": [],
   "source": [
    "#grouping train_hist data with customer ID and with the help of agg function taking max curent instalment sequence  \n",
    "df=train_hist.groupby(\"CustomerID\", as_index=False).agg({\"Current_Instalment_Sequence\":\"max\"})"
   ]
  },
  {
   "cell_type": "code",
   "execution_count": 485,
   "metadata": {},
   "outputs": [
    {
     "data": {
      "text/plain": [
       "pandas.core.frame.DataFrame"
      ]
     },
     "execution_count": 485,
     "metadata": {},
     "output_type": "execute_result"
    }
   ],
   "source": [
    "#checking the type of df  \n",
    "type(df)"
   ]
  },
  {
   "cell_type": "code",
   "execution_count": 486,
   "metadata": {},
   "outputs": [
    {
     "data": {
      "text/plain": [
       "(11093, 2)"
      ]
     },
     "execution_count": 486,
     "metadata": {},
     "output_type": "execute_result"
    }
   ],
   "source": [
    "#checking shape grouped data \n",
    "df.shape"
   ]
  },
  {
   "cell_type": "code",
   "execution_count": 487,
   "metadata": {},
   "outputs": [
    {
     "data": {
      "text/html": [
       "<div>\n",
       "<style scoped>\n",
       "    .dataframe tbody tr th:only-of-type {\n",
       "        vertical-align: middle;\n",
       "    }\n",
       "\n",
       "    .dataframe tbody tr th {\n",
       "        vertical-align: top;\n",
       "    }\n",
       "\n",
       "    .dataframe thead th {\n",
       "        text-align: right;\n",
       "    }\n",
       "</style>\n",
       "<table border=\"1\" class=\"dataframe\">\n",
       "  <thead>\n",
       "    <tr style=\"text-align: right;\">\n",
       "      <th></th>\n",
       "      <th>CustomerID</th>\n",
       "      <th>Current_Instalment_Sequence</th>\n",
       "    </tr>\n",
       "  </thead>\n",
       "  <tbody>\n",
       "    <tr>\n",
       "      <th>0</th>\n",
       "      <td>C12116</td>\n",
       "      <td>48</td>\n",
       "    </tr>\n",
       "    <tr>\n",
       "      <th>1</th>\n",
       "      <td>C12117</td>\n",
       "      <td>34</td>\n",
       "    </tr>\n",
       "    <tr>\n",
       "      <th>2</th>\n",
       "      <td>C12118</td>\n",
       "      <td>60</td>\n",
       "    </tr>\n",
       "    <tr>\n",
       "      <th>3</th>\n",
       "      <td>C12119</td>\n",
       "      <td>60</td>\n",
       "    </tr>\n",
       "    <tr>\n",
       "      <th>4</th>\n",
       "      <td>C12120</td>\n",
       "      <td>60</td>\n",
       "    </tr>\n",
       "  </tbody>\n",
       "</table>\n",
       "</div>"
      ],
      "text/plain": [
       "  CustomerID  Current_Instalment_Sequence\n",
       "0     C12116                           48\n",
       "1     C12117                           34\n",
       "2     C12118                           60\n",
       "3     C12119                           60\n",
       "4     C12120                           60"
      ]
     },
     "execution_count": 487,
     "metadata": {},
     "output_type": "execute_result"
    }
   ],
   "source": [
    "# checking df\n",
    "df.head()"
   ]
  },
  {
   "cell_type": "markdown",
   "metadata": {},
   "source": [
    "# Merge df with train_hist with respect to customerID and Current_Instalment_Sequence\n"
   ]
  },
  {
   "cell_type": "code",
   "execution_count": 488,
   "metadata": {},
   "outputs": [],
   "source": [
    "#mearging df with train_hist with customer id and current instalment sequence \n",
    "\n",
    "train_hist1=pd.merge(train_hist, df, on=('CustomerID','Current_Instalment_Sequence'), how='inner')"
   ]
  },
  {
   "cell_type": "code",
   "execution_count": 489,
   "metadata": {},
   "outputs": [
    {
     "data": {
      "text/plain": [
       "(11099, 20)"
      ]
     },
     "execution_count": 489,
     "metadata": {},
     "output_type": "execute_result"
    }
   ],
   "source": [
    "#cheacking shape of the train_hist1\n",
    "train_hist1.shape"
   ]
  },
  {
   "cell_type": "markdown",
   "metadata": {},
   "source": [
    "# merge train_hist and train with customerID to get finial train data"
   ]
  },
  {
   "cell_type": "code",
   "execution_count": 490,
   "metadata": {},
   "outputs": [],
   "source": [
    "#final traindata\n",
    "#mearging train and train_hist with common column customerid\n",
    "train_final=pd.merge(train, train_hist1, on=('CustomerID'), how='inner')"
   ]
  },
  {
   "cell_type": "code",
   "execution_count": 491,
   "metadata": {},
   "outputs": [
    {
     "data": {
      "text/plain": [
       "(11099, 29)"
      ]
     },
     "execution_count": 491,
     "metadata": {},
     "output_type": "execute_result"
    }
   ],
   "source": [
    "#checking shape of train final data \n",
    "train_final.shape"
   ]
  },
  {
   "cell_type": "code",
   "execution_count": 492,
   "metadata": {},
   "outputs": [],
   "source": [
    "#droping the unwanted column formed while mearging data \n",
    "train_final=train_final.drop(['Unnamed: 0_y','Unnamed: 0_x'],axis=1)"
   ]
  },
  {
   "cell_type": "markdown",
   "metadata": {},
   "source": [
    "# Removing duplicates from data"
   ]
  },
  {
   "cell_type": "code",
   "execution_count": 493,
   "metadata": {},
   "outputs": [],
   "source": [
    "#removing duplicates of same customer id from final train data\n",
    "train_final.drop_duplicates(subset =\"CustomerID\",inplace=True) "
   ]
  },
  {
   "cell_type": "code",
   "execution_count": 494,
   "metadata": {},
   "outputs": [
    {
     "data": {
      "text/plain": [
       "(11093, 27)"
      ]
     },
     "execution_count": 494,
     "metadata": {},
     "output_type": "execute_result"
    }
   ],
   "source": [
    "#checking shape of train data after removing dupilcates \n",
    "train_final.shape"
   ]
  },
  {
   "cell_type": "code",
   "execution_count": 495,
   "metadata": {},
   "outputs": [
    {
     "data": {
      "text/plain": [
       "Index(['CustomerID', 'DOB', 'Salary', 'ProfessionalLicensure',\n",
       "       'UtilitySpending', 'eCommerceAccount', 'SocialMediaAccount',\n",
       "       'NoOfProperties', 'CreditRiskScore', 'Current_Instalment_Sequence',\n",
       "       'Starting_Instalment', 'Maturity_Period', 'Current_Outstanding',\n",
       "       'Current_Loan_to_Appraisedvalu_Percent', 'CurrentInterestrate',\n",
       "       'RealEstate_Current_Inflation', 'GDP', 'UnemploymentRate', 'Asset_type',\n",
       "       'Urban_Development', 'Villa_House', 'Investment_SelfOccupied',\n",
       "       'Starting_outstanding', 'Starting_Loan_to_Appraisedvalu_Percent',\n",
       "       'StartingInterestrate', 'RealEstate_Starting_Inflation',\n",
       "       'Payment_Status'],\n",
       "      dtype='object')"
      ]
     },
     "execution_count": 495,
     "metadata": {},
     "output_type": "execute_result"
    }
   ],
   "source": [
    "#verifing the columns \n",
    "train_final.columns"
   ]
  },
  {
   "cell_type": "code",
   "execution_count": 496,
   "metadata": {},
   "outputs": [],
   "source": [
    "#droping customer id from train final data \n",
    "train_final= train_final.drop(['CustomerID'],axis=1)"
   ]
  },
  {
   "cell_type": "code",
   "execution_count": 497,
   "metadata": {},
   "outputs": [
    {
     "data": {
      "text/html": [
       "<div>\n",
       "<style scoped>\n",
       "    .dataframe tbody tr th:only-of-type {\n",
       "        vertical-align: middle;\n",
       "    }\n",
       "\n",
       "    .dataframe tbody tr th {\n",
       "        vertical-align: top;\n",
       "    }\n",
       "\n",
       "    .dataframe thead th {\n",
       "        text-align: right;\n",
       "    }\n",
       "</style>\n",
       "<table border=\"1\" class=\"dataframe\">\n",
       "  <thead>\n",
       "    <tr style=\"text-align: right;\">\n",
       "      <th></th>\n",
       "      <th>Column_Name</th>\n",
       "      <th>Num_Unique</th>\n",
       "    </tr>\n",
       "  </thead>\n",
       "  <tbody>\n",
       "    <tr>\n",
       "      <th>19</th>\n",
       "      <td>Villa_House</td>\n",
       "      <td>2</td>\n",
       "    </tr>\n",
       "    <tr>\n",
       "      <th>17</th>\n",
       "      <td>Asset_type</td>\n",
       "      <td>2</td>\n",
       "    </tr>\n",
       "    <tr>\n",
       "      <th>2</th>\n",
       "      <td>ProfessionalLicensure</td>\n",
       "      <td>2</td>\n",
       "    </tr>\n",
       "    <tr>\n",
       "      <th>20</th>\n",
       "      <td>Investment_SelfOccupied</td>\n",
       "      <td>2</td>\n",
       "    </tr>\n",
       "    <tr>\n",
       "      <th>4</th>\n",
       "      <td>eCommerceAccount</td>\n",
       "      <td>2</td>\n",
       "    </tr>\n",
       "    <tr>\n",
       "      <th>5</th>\n",
       "      <td>SocialMediaAccount</td>\n",
       "      <td>2</td>\n",
       "    </tr>\n",
       "    <tr>\n",
       "      <th>18</th>\n",
       "      <td>Urban_Development</td>\n",
       "      <td>2</td>\n",
       "    </tr>\n",
       "    <tr>\n",
       "      <th>25</th>\n",
       "      <td>Payment_Status</td>\n",
       "      <td>3</td>\n",
       "    </tr>\n",
       "    <tr>\n",
       "      <th>6</th>\n",
       "      <td>NoOfProperties</td>\n",
       "      <td>4</td>\n",
       "    </tr>\n",
       "    <tr>\n",
       "      <th>16</th>\n",
       "      <td>UnemploymentRate</td>\n",
       "      <td>31</td>\n",
       "    </tr>\n",
       "    <tr>\n",
       "      <th>9</th>\n",
       "      <td>Starting_Instalment</td>\n",
       "      <td>39</td>\n",
       "    </tr>\n",
       "    <tr>\n",
       "      <th>8</th>\n",
       "      <td>Current_Instalment_Sequence</td>\n",
       "      <td>51</td>\n",
       "    </tr>\n",
       "    <tr>\n",
       "      <th>14</th>\n",
       "      <td>RealEstate_Current_Inflation</td>\n",
       "      <td>51</td>\n",
       "    </tr>\n",
       "    <tr>\n",
       "      <th>15</th>\n",
       "      <td>GDP</td>\n",
       "      <td>51</td>\n",
       "    </tr>\n",
       "    <tr>\n",
       "      <th>24</th>\n",
       "      <td>RealEstate_Starting_Inflation</td>\n",
       "      <td>70</td>\n",
       "    </tr>\n",
       "    <tr>\n",
       "      <th>3</th>\n",
       "      <td>UtilitySpending</td>\n",
       "      <td>126</td>\n",
       "    </tr>\n",
       "    <tr>\n",
       "      <th>10</th>\n",
       "      <td>Maturity_Period</td>\n",
       "      <td>143</td>\n",
       "    </tr>\n",
       "    <tr>\n",
       "      <th>7</th>\n",
       "      <td>CreditRiskScore</td>\n",
       "      <td>481</td>\n",
       "    </tr>\n",
       "    <tr>\n",
       "      <th>22</th>\n",
       "      <td>Starting_Loan_to_Appraisedvalu_Percent</td>\n",
       "      <td>500</td>\n",
       "    </tr>\n",
       "    <tr>\n",
       "      <th>23</th>\n",
       "      <td>StartingInterestrate</td>\n",
       "      <td>694</td>\n",
       "    </tr>\n",
       "    <tr>\n",
       "      <th>0</th>\n",
       "      <td>DOB</td>\n",
       "      <td>708</td>\n",
       "    </tr>\n",
       "    <tr>\n",
       "      <th>13</th>\n",
       "      <td>CurrentInterestrate</td>\n",
       "      <td>1132</td>\n",
       "    </tr>\n",
       "    <tr>\n",
       "      <th>21</th>\n",
       "      <td>Starting_outstanding</td>\n",
       "      <td>4094</td>\n",
       "    </tr>\n",
       "    <tr>\n",
       "      <th>1</th>\n",
       "      <td>Salary</td>\n",
       "      <td>8218</td>\n",
       "    </tr>\n",
       "    <tr>\n",
       "      <th>11</th>\n",
       "      <td>Current_Outstanding</td>\n",
       "      <td>10961</td>\n",
       "    </tr>\n",
       "    <tr>\n",
       "      <th>12</th>\n",
       "      <td>Current_Loan_to_Appraisedvalu_Percent</td>\n",
       "      <td>10970</td>\n",
       "    </tr>\n",
       "  </tbody>\n",
       "</table>\n",
       "</div>"
      ],
      "text/plain": [
       "                               Column_Name  Num_Unique\n",
       "19                             Villa_House           2\n",
       "17                              Asset_type           2\n",
       "2                    ProfessionalLicensure           2\n",
       "20                 Investment_SelfOccupied           2\n",
       "4                         eCommerceAccount           2\n",
       "5                       SocialMediaAccount           2\n",
       "18                       Urban_Development           2\n",
       "25                          Payment_Status           3\n",
       "6                           NoOfProperties           4\n",
       "16                        UnemploymentRate          31\n",
       "9                      Starting_Instalment          39\n",
       "8              Current_Instalment_Sequence          51\n",
       "14            RealEstate_Current_Inflation          51\n",
       "15                                     GDP          51\n",
       "24           RealEstate_Starting_Inflation          70\n",
       "3                          UtilitySpending         126\n",
       "10                         Maturity_Period         143\n",
       "7                          CreditRiskScore         481\n",
       "22  Starting_Loan_to_Appraisedvalu_Percent         500\n",
       "23                    StartingInterestrate         694\n",
       "0                                      DOB         708\n",
       "13                     CurrentInterestrate        1132\n",
       "21                    Starting_outstanding        4094\n",
       "1                                   Salary        8218\n",
       "11                     Current_Outstanding       10961\n",
       "12   Current_Loan_to_Appraisedvalu_Percent       10970"
      ]
     },
     "execution_count": 497,
     "metadata": {},
     "output_type": "execute_result"
    }
   ],
   "source": [
    "#checking unique nums in each column of final train data set \n",
    "unique_counts = pd.DataFrame.from_records([(col, train_final[col].nunique()) for col in train_final.columns],\n",
    "                          columns=['Column_Name', 'Num_Unique']).sort_values(by=['Num_Unique'])\n",
    "unique_counts"
   ]
  },
  {
   "cell_type": "markdown",
   "metadata": {},
   "source": [
    "# loading test data set"
   ]
  },
  {
   "cell_type": "code",
   "execution_count": 498,
   "metadata": {},
   "outputs": [],
   "source": [
    "#loading teat data whis is inn ths form excel \n",
    "test=pd.read_excel(\"Test.xlsx\")"
   ]
  },
  {
   "cell_type": "code",
   "execution_count": 499,
   "metadata": {},
   "outputs": [
    {
     "data": {
      "text/plain": [
       "(2774, 8)"
      ]
     },
     "execution_count": 499,
     "metadata": {},
     "output_type": "execute_result"
    }
   ],
   "source": [
    "#checking the shape of test\n",
    "test.shape"
   ]
  },
  {
   "cell_type": "code",
   "execution_count": 500,
   "metadata": {},
   "outputs": [],
   "source": [
    "#loaing test_histr in excel form \n",
    "test_hist=pd.read_excel('Test_hist.xlsx')"
   ]
  },
  {
   "cell_type": "code",
   "execution_count": 501,
   "metadata": {},
   "outputs": [
    {
     "data": {
      "text/html": [
       "<div>\n",
       "<style scoped>\n",
       "    .dataframe tbody tr th:only-of-type {\n",
       "        vertical-align: middle;\n",
       "    }\n",
       "\n",
       "    .dataframe tbody tr th {\n",
       "        vertical-align: top;\n",
       "    }\n",
       "\n",
       "    .dataframe thead th {\n",
       "        text-align: right;\n",
       "    }\n",
       "</style>\n",
       "<table border=\"1\" class=\"dataframe\">\n",
       "  <thead>\n",
       "    <tr style=\"text-align: right;\">\n",
       "      <th></th>\n",
       "      <th>CustomerID</th>\n",
       "      <th>DOB</th>\n",
       "      <th>Salary</th>\n",
       "      <th>ProfessionalLicensure</th>\n",
       "      <th>UtilitySpending</th>\n",
       "      <th>eCommerceAccount</th>\n",
       "      <th>SocialMediaAccount</th>\n",
       "      <th>NoOfProperties</th>\n",
       "    </tr>\n",
       "  </thead>\n",
       "  <tbody>\n",
       "    <tr>\n",
       "      <th>0</th>\n",
       "      <td>C41116</td>\n",
       "      <td>1973-04-21</td>\n",
       "      <td>1876.0</td>\n",
       "      <td>1</td>\n",
       "      <td>396.161956</td>\n",
       "      <td>1</td>\n",
       "      <td>Yes</td>\n",
       "      <td>1</td>\n",
       "    </tr>\n",
       "    <tr>\n",
       "      <th>1</th>\n",
       "      <td>C41117</td>\n",
       "      <td>1970-03-14</td>\n",
       "      <td>1261.0</td>\n",
       "      <td>0</td>\n",
       "      <td>195.604966</td>\n",
       "      <td>0</td>\n",
       "      <td>No</td>\n",
       "      <td>1</td>\n",
       "    </tr>\n",
       "    <tr>\n",
       "      <th>2</th>\n",
       "      <td>C41118</td>\n",
       "      <td>1981-01-03</td>\n",
       "      <td>1026.0</td>\n",
       "      <td>1</td>\n",
       "      <td>212.937051</td>\n",
       "      <td>0</td>\n",
       "      <td>Yes</td>\n",
       "      <td>2</td>\n",
       "    </tr>\n",
       "    <tr>\n",
       "      <th>3</th>\n",
       "      <td>C41119</td>\n",
       "      <td>1983-01-04</td>\n",
       "      <td>1384.0</td>\n",
       "      <td>0</td>\n",
       "      <td>396.161956</td>\n",
       "      <td>1</td>\n",
       "      <td>Yes</td>\n",
       "      <td>1</td>\n",
       "    </tr>\n",
       "    <tr>\n",
       "      <th>4</th>\n",
       "      <td>C41120</td>\n",
       "      <td>1979-03-16</td>\n",
       "      <td>1913.0</td>\n",
       "      <td>1</td>\n",
       "      <td>220.365088</td>\n",
       "      <td>1</td>\n",
       "      <td>Yes</td>\n",
       "      <td>2</td>\n",
       "    </tr>\n",
       "  </tbody>\n",
       "</table>\n",
       "</div>"
      ],
      "text/plain": [
       "  CustomerID         DOB  Salary  ProfessionalLicensure  UtilitySpending  \\\n",
       "0     C41116  1973-04-21  1876.0                      1       396.161956   \n",
       "1     C41117  1970-03-14  1261.0                      0       195.604966   \n",
       "2     C41118  1981-01-03  1026.0                      1       212.937051   \n",
       "3     C41119  1983-01-04  1384.0                      0       396.161956   \n",
       "4     C41120  1979-03-16  1913.0                      1       220.365088   \n",
       "\n",
       "   eCommerceAccount SocialMediaAccount  NoOfProperties  \n",
       "0                 1                Yes               1  \n",
       "1                 0                 No               1  \n",
       "2                 0                Yes               2  \n",
       "3                 1                Yes               1  \n",
       "4                 1                Yes               2  "
      ]
     },
     "execution_count": 501,
     "metadata": {},
     "output_type": "execute_result"
    }
   ],
   "source": [
    "#checking head of test data\n",
    "test.head(5)"
   ]
  },
  {
   "cell_type": "code",
   "execution_count": 502,
   "metadata": {},
   "outputs": [
    {
     "data": {
      "text/html": [
       "<div>\n",
       "<style scoped>\n",
       "    .dataframe tbody tr th:only-of-type {\n",
       "        vertical-align: middle;\n",
       "    }\n",
       "\n",
       "    .dataframe tbody tr th {\n",
       "        vertical-align: top;\n",
       "    }\n",
       "\n",
       "    .dataframe thead th {\n",
       "        text-align: right;\n",
       "    }\n",
       "</style>\n",
       "<table border=\"1\" class=\"dataframe\">\n",
       "  <thead>\n",
       "    <tr style=\"text-align: right;\">\n",
       "      <th></th>\n",
       "      <th>CustomerID</th>\n",
       "      <th>Current_Instalment_Sequence</th>\n",
       "      <th>Starting_Instalment</th>\n",
       "      <th>Maturity_Period</th>\n",
       "      <th>Current_Outstanding</th>\n",
       "      <th>Current_Loan_to_Appraisedvalu_Percent</th>\n",
       "      <th>CurrentInterestrate</th>\n",
       "      <th>RealEstate_Current_Inflation</th>\n",
       "      <th>GDP</th>\n",
       "      <th>UnemploymentRate</th>\n",
       "      <th>Asset_type</th>\n",
       "      <th>Urban_Development</th>\n",
       "      <th>Villa_House</th>\n",
       "      <th>Investment_SelfOccupied</th>\n",
       "      <th>Starting_outstanding</th>\n",
       "      <th>Starting_Loan_to_Appraisedvalu_Percent</th>\n",
       "      <th>StartingInterestrate</th>\n",
       "      <th>RealEstate_Starting_Inflation</th>\n",
       "      <th>Payment_Status</th>\n",
       "    </tr>\n",
       "  </thead>\n",
       "  <tbody>\n",
       "    <tr>\n",
       "      <th>0</th>\n",
       "      <td>C41116</td>\n",
       "      <td>25</td>\n",
       "      <td>25</td>\n",
       "      <td>119</td>\n",
       "      <td>61031.10</td>\n",
       "      <td>33.911009</td>\n",
       "      <td>10.500</td>\n",
       "      <td>2.2629</td>\n",
       "      <td>2.899137</td>\n",
       "      <td>4.7</td>\n",
       "      <td>No shred services</td>\n",
       "      <td>No</td>\n",
       "      <td>Yes</td>\n",
       "      <td>Self Occupancy</td>\n",
       "      <td>63750.0</td>\n",
       "      <td>81.8</td>\n",
       "      <td>10.5</td>\n",
       "      <td>0.9799</td>\n",
       "      <td>Non-Payoff/Non-Default</td>\n",
       "    </tr>\n",
       "    <tr>\n",
       "      <th>1</th>\n",
       "      <td>C41116</td>\n",
       "      <td>26</td>\n",
       "      <td>25</td>\n",
       "      <td>119</td>\n",
       "      <td>60882.42</td>\n",
       "      <td>34.007232</td>\n",
       "      <td>10.500</td>\n",
       "      <td>2.2510</td>\n",
       "      <td>2.151365</td>\n",
       "      <td>4.7</td>\n",
       "      <td>No shred services</td>\n",
       "      <td>No</td>\n",
       "      <td>Yes</td>\n",
       "      <td>Self Occupancy</td>\n",
       "      <td>63750.0</td>\n",
       "      <td>81.8</td>\n",
       "      <td>10.5</td>\n",
       "      <td>0.9799</td>\n",
       "      <td>Non-Payoff/Non-Default</td>\n",
       "    </tr>\n",
       "    <tr>\n",
       "      <th>2</th>\n",
       "      <td>C41116</td>\n",
       "      <td>27</td>\n",
       "      <td>25</td>\n",
       "      <td>119</td>\n",
       "      <td>60729.80</td>\n",
       "      <td>34.335349</td>\n",
       "      <td>10.500</td>\n",
       "      <td>2.2239</td>\n",
       "      <td>2.361722</td>\n",
       "      <td>4.4</td>\n",
       "      <td>No shred services</td>\n",
       "      <td>No</td>\n",
       "      <td>Yes</td>\n",
       "      <td>Self Occupancy</td>\n",
       "      <td>63750.0</td>\n",
       "      <td>81.8</td>\n",
       "      <td>10.5</td>\n",
       "      <td>0.9799</td>\n",
       "      <td>Non-Payoff/Non-Default</td>\n",
       "    </tr>\n",
       "    <tr>\n",
       "      <th>3</th>\n",
       "      <td>C41116</td>\n",
       "      <td>28</td>\n",
       "      <td>25</td>\n",
       "      <td>119</td>\n",
       "      <td>60576.14</td>\n",
       "      <td>34.672545</td>\n",
       "      <td>10.875</td>\n",
       "      <td>2.1967</td>\n",
       "      <td>1.229172</td>\n",
       "      <td>4.6</td>\n",
       "      <td>No shred services</td>\n",
       "      <td>No</td>\n",
       "      <td>Yes</td>\n",
       "      <td>Self Occupancy</td>\n",
       "      <td>63750.0</td>\n",
       "      <td>81.8</td>\n",
       "      <td>10.5</td>\n",
       "      <td>0.9799</td>\n",
       "      <td>Non-Payoff/Non-Default</td>\n",
       "    </tr>\n",
       "    <tr>\n",
       "      <th>4</th>\n",
       "      <td>C41116</td>\n",
       "      <td>29</td>\n",
       "      <td>25</td>\n",
       "      <td>119</td>\n",
       "      <td>60424.39</td>\n",
       "      <td>34.951639</td>\n",
       "      <td>10.875</td>\n",
       "      <td>2.1737</td>\n",
       "      <td>1.692969</td>\n",
       "      <td>4.5</td>\n",
       "      <td>No shred services</td>\n",
       "      <td>No</td>\n",
       "      <td>Yes</td>\n",
       "      <td>Self Occupancy</td>\n",
       "      <td>63750.0</td>\n",
       "      <td>81.8</td>\n",
       "      <td>10.5</td>\n",
       "      <td>0.9799</td>\n",
       "      <td>Non-Payoff/Non-Default</td>\n",
       "    </tr>\n",
       "  </tbody>\n",
       "</table>\n",
       "</div>"
      ],
      "text/plain": [
       "  CustomerID  Current_Instalment_Sequence  Starting_Instalment  \\\n",
       "0     C41116                           25                   25   \n",
       "1     C41116                           26                   25   \n",
       "2     C41116                           27                   25   \n",
       "3     C41116                           28                   25   \n",
       "4     C41116                           29                   25   \n",
       "\n",
       "   Maturity_Period  Current_Outstanding  \\\n",
       "0              119             61031.10   \n",
       "1              119             60882.42   \n",
       "2              119             60729.80   \n",
       "3              119             60576.14   \n",
       "4              119             60424.39   \n",
       "\n",
       "   Current_Loan_to_Appraisedvalu_Percent  CurrentInterestrate  \\\n",
       "0                              33.911009               10.500   \n",
       "1                              34.007232               10.500   \n",
       "2                              34.335349               10.500   \n",
       "3                              34.672545               10.875   \n",
       "4                              34.951639               10.875   \n",
       "\n",
       "   RealEstate_Current_Inflation       GDP  UnemploymentRate  \\\n",
       "0                        2.2629  2.899137               4.7   \n",
       "1                        2.2510  2.151365               4.7   \n",
       "2                        2.2239  2.361722               4.4   \n",
       "3                        2.1967  1.229172               4.6   \n",
       "4                        2.1737  1.692969               4.5   \n",
       "\n",
       "          Asset_type Urban_Development Villa_House Investment_SelfOccupied  \\\n",
       "0  No shred services                No         Yes          Self Occupancy   \n",
       "1  No shred services                No         Yes          Self Occupancy   \n",
       "2  No shred services                No         Yes          Self Occupancy   \n",
       "3  No shred services                No         Yes          Self Occupancy   \n",
       "4  No shred services                No         Yes          Self Occupancy   \n",
       "\n",
       "   Starting_outstanding  Starting_Loan_to_Appraisedvalu_Percent  \\\n",
       "0               63750.0                                    81.8   \n",
       "1               63750.0                                    81.8   \n",
       "2               63750.0                                    81.8   \n",
       "3               63750.0                                    81.8   \n",
       "4               63750.0                                    81.8   \n",
       "\n",
       "   StartingInterestrate  RealEstate_Starting_Inflation          Payment_Status  \n",
       "0                  10.5                         0.9799  Non-Payoff/Non-Default  \n",
       "1                  10.5                         0.9799  Non-Payoff/Non-Default  \n",
       "2                  10.5                         0.9799  Non-Payoff/Non-Default  \n",
       "3                  10.5                         0.9799  Non-Payoff/Non-Default  \n",
       "4                  10.5                         0.9799  Non-Payoff/Non-Default  "
      ]
     },
     "execution_count": 502,
     "metadata": {},
     "output_type": "execute_result"
    }
   ],
   "source": [
    "#checking the test-hist head\n",
    "test_hist.head(5)"
   ]
  },
  {
   "cell_type": "code",
   "execution_count": 503,
   "metadata": {},
   "outputs": [
    {
     "data": {
      "text/plain": [
       "(67621, 19)"
      ]
     },
     "execution_count": 503,
     "metadata": {},
     "output_type": "execute_result"
    }
   ],
   "source": [
    "#checkng shape of test\n",
    "test_hist.shape"
   ]
  },
  {
   "cell_type": "code",
   "execution_count": 504,
   "metadata": {},
   "outputs": [
    {
     "data": {
      "text/plain": [
       "(67621, 19)"
      ]
     },
     "execution_count": 504,
     "metadata": {},
     "output_type": "execute_result"
    }
   ],
   "source": [
    "#checking shape of test_hist \n",
    "test_hist.shape "
   ]
  },
  {
   "cell_type": "markdown",
   "metadata": {},
   "source": [
    "# Groping the coustumerID in payment history with max Current_Instalment_Sequence"
   ]
  },
  {
   "cell_type": "code",
   "execution_count": 505,
   "metadata": {},
   "outputs": [],
   "source": [
    "# mearging df with train_hist with customer id and current instalment sequence \n",
    "df_test=test_hist.groupby(\"CustomerID\", as_index=False).agg({\"Current_Instalment_Sequence\":\"max\"})"
   ]
  },
  {
   "cell_type": "code",
   "execution_count": 506,
   "metadata": {},
   "outputs": [
    {
     "data": {
      "text/plain": [
       "(2774, 2)"
      ]
     },
     "execution_count": 506,
     "metadata": {},
     "output_type": "execute_result"
    }
   ],
   "source": [
    "# checking shape of df_test after groupby\n",
    "df_test.shape"
   ]
  },
  {
   "cell_type": "code",
   "execution_count": 507,
   "metadata": {},
   "outputs": [
    {
     "data": {
      "text/html": [
       "<div>\n",
       "<style scoped>\n",
       "    .dataframe tbody tr th:only-of-type {\n",
       "        vertical-align: middle;\n",
       "    }\n",
       "\n",
       "    .dataframe tbody tr th {\n",
       "        vertical-align: top;\n",
       "    }\n",
       "\n",
       "    .dataframe thead th {\n",
       "        text-align: right;\n",
       "    }\n",
       "</style>\n",
       "<table border=\"1\" class=\"dataframe\">\n",
       "  <thead>\n",
       "    <tr style=\"text-align: right;\">\n",
       "      <th></th>\n",
       "      <th>CustomerID</th>\n",
       "      <th>Current_Instalment_Sequence</th>\n",
       "    </tr>\n",
       "  </thead>\n",
       "  <tbody>\n",
       "    <tr>\n",
       "      <th>0</th>\n",
       "      <td>C41116</td>\n",
       "      <td>60</td>\n",
       "    </tr>\n",
       "    <tr>\n",
       "      <th>1</th>\n",
       "      <td>C41117</td>\n",
       "      <td>60</td>\n",
       "    </tr>\n",
       "    <tr>\n",
       "      <th>2</th>\n",
       "      <td>C41118</td>\n",
       "      <td>60</td>\n",
       "    </tr>\n",
       "    <tr>\n",
       "      <th>3</th>\n",
       "      <td>C41119</td>\n",
       "      <td>60</td>\n",
       "    </tr>\n",
       "    <tr>\n",
       "      <th>4</th>\n",
       "      <td>C41120</td>\n",
       "      <td>60</td>\n",
       "    </tr>\n",
       "  </tbody>\n",
       "</table>\n",
       "</div>"
      ],
      "text/plain": [
       "  CustomerID  Current_Instalment_Sequence\n",
       "0     C41116                           60\n",
       "1     C41117                           60\n",
       "2     C41118                           60\n",
       "3     C41119                           60\n",
       "4     C41120                           60"
      ]
     },
     "execution_count": 507,
     "metadata": {},
     "output_type": "execute_result"
    }
   ],
   "source": [
    "# checing head of df_test\n",
    "df_test.head(5)"
   ]
  },
  {
   "cell_type": "code",
   "execution_count": 508,
   "metadata": {},
   "outputs": [],
   "source": [
    "# mearging df_test with test_hist with 2 columns customerid and curent instalment sequence \n",
    "test_hist1=pd.merge(df_test,test_hist, on=('CustomerID','Current_Instalment_Sequence'), how=\"inner\")"
   ]
  },
  {
   "cell_type": "code",
   "execution_count": 509,
   "metadata": {},
   "outputs": [],
   "source": [
    "# droping duplicates with customer id \n",
    "teat_hist1=test_hist1.drop_duplicates(subset =\"CustomerID\",inplace=True) "
   ]
  },
  {
   "cell_type": "code",
   "execution_count": 510,
   "metadata": {},
   "outputs": [
    {
     "data": {
      "text/plain": [
       "(2774, 19)"
      ]
     },
     "execution_count": 510,
     "metadata": {},
     "output_type": "execute_result"
    }
   ],
   "source": [
    "# checking the shape of test_hist1\n",
    "test_hist1.shape"
   ]
  },
  {
   "cell_type": "code",
   "execution_count": 511,
   "metadata": {},
   "outputs": [],
   "source": [
    "#final mearge of test and test_hist with customer id \n",
    "test_final=pd.merge(test, test_hist1, on=('CustomerID'), how='inner')"
   ]
  },
  {
   "cell_type": "code",
   "execution_count": 512,
   "metadata": {},
   "outputs": [
    {
     "data": {
      "text/plain": [
       "(2774, 26)"
      ]
     },
     "execution_count": 512,
     "metadata": {},
     "output_type": "execute_result"
    }
   ],
   "source": [
    "# checking the shape of the final test data \n",
    "test_final.shape"
   ]
  },
  {
   "cell_type": "code",
   "execution_count": 513,
   "metadata": {},
   "outputs": [
    {
     "data": {
      "text/plain": [
       "Index(['CustomerID', 'DOB', 'Salary', 'ProfessionalLicensure',\n",
       "       'UtilitySpending', 'eCommerceAccount', 'SocialMediaAccount',\n",
       "       'NoOfProperties', 'Current_Instalment_Sequence', 'Starting_Instalment',\n",
       "       'Maturity_Period', 'Current_Outstanding',\n",
       "       'Current_Loan_to_Appraisedvalu_Percent', 'CurrentInterestrate',\n",
       "       'RealEstate_Current_Inflation', 'GDP', 'UnemploymentRate', 'Asset_type',\n",
       "       'Urban_Development', 'Villa_House', 'Investment_SelfOccupied',\n",
       "       'Starting_outstanding', 'Starting_Loan_to_Appraisedvalu_Percent',\n",
       "       'StartingInterestrate', 'RealEstate_Starting_Inflation',\n",
       "       'Payment_Status'],\n",
       "      dtype='object')"
      ]
     },
     "execution_count": 513,
     "metadata": {},
     "output_type": "execute_result"
    }
   ],
   "source": [
    "# columns of finial test data \n",
    "test_final.columns"
   ]
  },
  {
   "cell_type": "markdown",
   "metadata": {},
   "source": [
    "# Removing duplicates from data"
   ]
  },
  {
   "cell_type": "code",
   "execution_count": 514,
   "metadata": {},
   "outputs": [],
   "source": [
    "# removing duplicates from final test data \n",
    "test_final.drop_duplicates(keep=False,inplace=True) "
   ]
  },
  {
   "cell_type": "code",
   "execution_count": 515,
   "metadata": {},
   "outputs": [
    {
     "data": {
      "text/plain": [
       "(2774, 26)"
      ]
     },
     "execution_count": 515,
     "metadata": {},
     "output_type": "execute_result"
    }
   ],
   "source": [
    "# checking shape after removing final test data \n",
    "test_final.shape"
   ]
  },
  {
   "cell_type": "markdown",
   "metadata": {},
   "source": [
    "# saving test final data set"
   ]
  },
  {
   "cell_type": "code",
   "execution_count": 516,
   "metadata": {},
   "outputs": [],
   "source": [
    "# saving the final test data in xlsx formet\n",
    "test_final.to_excel(\"test_final.xlsx\", sheet_name='Sheet_name_1')"
   ]
  },
  {
   "cell_type": "code",
   "execution_count": 517,
   "metadata": {},
   "outputs": [],
   "source": [
    "#droping customer id from final test data\n",
    "test_final= test_final.drop(['CustomerID'],axis=1)"
   ]
  },
  {
   "cell_type": "code",
   "execution_count": 518,
   "metadata": {},
   "outputs": [
    {
     "data": {
      "text/plain": [
       "(2774, 25)"
      ]
     },
     "execution_count": 518,
     "metadata": {},
     "output_type": "execute_result"
    }
   ],
   "source": [
    "# checking shape after droping customer id  \n",
    "test_final.shape"
   ]
  },
  {
   "cell_type": "code",
   "execution_count": 519,
   "metadata": {},
   "outputs": [
    {
     "data": {
      "text/plain": [
       "(11093, 26)"
      ]
     },
     "execution_count": 519,
     "metadata": {},
     "output_type": "execute_result"
    }
   ],
   "source": [
    "# checing shape of train final data beforing preprocing \n",
    "train_final.shape"
   ]
  },
  {
   "cell_type": "markdown",
   "metadata": {},
   "source": [
    "# preprosicing steps"
   ]
  },
  {
   "cell_type": "code",
   "execution_count": 520,
   "metadata": {},
   "outputs": [],
   "source": [
    "# using small loop converting some of the colums into catagory of train final data whose uniqe values  are less than 10 \n",
    "for col in train_final [['Investment_SelfOccupied','ProfessionalLicensure','Urban_Development','eCommerceAccount','SocialMediaAccount','Asset_type','Villa_House','Payment_Status','NoOfProperties']]:\n",
    "    train_final[col] = train_final[col].astype('category')"
   ]
  },
  {
   "cell_type": "code",
   "execution_count": 521,
   "metadata": {},
   "outputs": [],
   "source": [
    "# using small loop converting some of the colums into catagory of test final data whose uniqe values  are less than 10\n",
    "for col in test_final [['Investment_SelfOccupied','ProfessionalLicensure','Urban_Development','eCommerceAccount','SocialMediaAccount','Asset_type','Villa_House','Payment_Status','NoOfProperties']]:\n",
    "    test_final[col] = test_final[col].astype('category')"
   ]
  },
  {
   "cell_type": "code",
   "execution_count": 522,
   "metadata": {},
   "outputs": [
    {
     "data": {
      "text/plain": [
       "DOB                                         object\n",
       "Salary                                     float64\n",
       "ProfessionalLicensure                     category\n",
       "UtilitySpending                            float64\n",
       "eCommerceAccount                          category\n",
       "SocialMediaAccount                        category\n",
       "NoOfProperties                            category\n",
       "Current_Instalment_Sequence                  int64\n",
       "Starting_Instalment                          int64\n",
       "Maturity_Period                              int64\n",
       "Current_Outstanding                        float64\n",
       "Current_Loan_to_Appraisedvalu_Percent      float64\n",
       "CurrentInterestrate                        float64\n",
       "RealEstate_Current_Inflation               float64\n",
       "GDP                                        float64\n",
       "UnemploymentRate                           float64\n",
       "Asset_type                                category\n",
       "Urban_Development                         category\n",
       "Villa_House                               category\n",
       "Investment_SelfOccupied                   category\n",
       "Starting_outstanding                       float64\n",
       "Starting_Loan_to_Appraisedvalu_Percent     float64\n",
       "StartingInterestrate                       float64\n",
       "RealEstate_Starting_Inflation              float64\n",
       "Payment_Status                            category\n",
       "dtype: object"
      ]
     },
     "execution_count": 522,
     "metadata": {},
     "output_type": "execute_result"
    }
   ],
   "source": [
    "# checking dtypes after converting cataory columns \n",
    "test_final.dtypes"
   ]
  },
  {
   "cell_type": "code",
   "execution_count": 523,
   "metadata": {},
   "outputs": [
    {
     "data": {
      "text/plain": [
       "DOB                                         object\n",
       "Salary                                     float64\n",
       "ProfessionalLicensure                     category\n",
       "UtilitySpending                            float64\n",
       "eCommerceAccount                          category\n",
       "SocialMediaAccount                        category\n",
       "NoOfProperties                            category\n",
       "CreditRiskScore                              int64\n",
       "Current_Instalment_Sequence                  int64\n",
       "Starting_Instalment                          int64\n",
       "Maturity_Period                              int64\n",
       "Current_Outstanding                        float64\n",
       "Current_Loan_to_Appraisedvalu_Percent      float64\n",
       "CurrentInterestrate                        float64\n",
       "RealEstate_Current_Inflation               float64\n",
       "GDP                                        float64\n",
       "UnemploymentRate                           float64\n",
       "Asset_type                                category\n",
       "Urban_Development                         category\n",
       "Villa_House                               category\n",
       "Investment_SelfOccupied                   category\n",
       "Starting_outstanding                       float64\n",
       "Starting_Loan_to_Appraisedvalu_Percent     float64\n",
       "StartingInterestrate                       float64\n",
       "RealEstate_Starting_Inflation              float64\n",
       "Payment_Status                            category\n",
       "dtype: object"
      ]
     },
     "execution_count": 523,
     "metadata": {},
     "output_type": "execute_result"
    }
   ],
   "source": [
    "# checking dtypes after converting cataory columns \n",
    "train_final.dtypes"
   ]
  },
  {
   "cell_type": "markdown",
   "metadata": {},
   "source": [
    "# calculating age on bases of DOB"
   ]
  },
  {
   "cell_type": "code",
   "execution_count": 524,
   "metadata": {},
   "outputs": [],
   "source": [
    "#converting DOB into date time format in train_final data   \n",
    "from datetime import*\n",
    "train_final['DOB']=pd.to_datetime(train_final['DOB'])\n",
    "#creadting new column with today date with help of datetime formet in train_final \n",
    "train_final['today']=datetime.today()"
   ]
  },
  {
   "cell_type": "code",
   "execution_count": 525,
   "metadata": {},
   "outputs": [],
   "source": [
    "#converting DOB into date time format in test_final data \n",
    "from datetime import*\n",
    "test_final['DOB']=pd.to_datetime(test_final['DOB'])\n",
    "#creadting new column with today date with help of datetime formet in test_final\n",
    "test_final['today']=datetime.today()"
   ]
  },
  {
   "cell_type": "code",
   "execution_count": 526,
   "metadata": {},
   "outputs": [],
   "source": [
    "# geting age of customer by sub today date to dob columns in train_final data \n",
    "days_in_year = 365.2425    \n",
    "train_final['age'] = ((train_final['today'] - train_final[\"DOB\"])// timedelta(days=365.2425))"
   ]
  },
  {
   "cell_type": "code",
   "execution_count": 527,
   "metadata": {},
   "outputs": [],
   "source": [
    "# geting age of customer by sub today date to dob columns in test_final data\n",
    "days_in_year = 365.2425    \n",
    "test_final['age'] = ((test_final['today'] - test_final[\"DOB\"])// timedelta(days=365.2425))"
   ]
  },
  {
   "cell_type": "code",
   "execution_count": 528,
   "metadata": {},
   "outputs": [],
   "source": [
    "# droping dob and today columns in train_final data \n",
    "train_final=train_final.drop(['today','DOB'],axis=1)"
   ]
  },
  {
   "cell_type": "code",
   "execution_count": 529,
   "metadata": {},
   "outputs": [],
   "source": [
    "# droping dob and today columns in train_final data \n",
    "test_final=test_final.drop(['today','DOB'],axis=1)"
   ]
  },
  {
   "cell_type": "code",
   "execution_count": 530,
   "metadata": {},
   "outputs": [
    {
     "data": {
      "text/plain": [
       "Index(['Salary', 'ProfessionalLicensure', 'UtilitySpending',\n",
       "       'eCommerceAccount', 'SocialMediaAccount', 'NoOfProperties',\n",
       "       'CreditRiskScore', 'Current_Instalment_Sequence', 'Starting_Instalment',\n",
       "       'Maturity_Period', 'Current_Outstanding',\n",
       "       'Current_Loan_to_Appraisedvalu_Percent', 'CurrentInterestrate',\n",
       "       'RealEstate_Current_Inflation', 'GDP', 'UnemploymentRate', 'Asset_type',\n",
       "       'Urban_Development', 'Villa_House', 'Investment_SelfOccupied',\n",
       "       'Starting_outstanding', 'Starting_Loan_to_Appraisedvalu_Percent',\n",
       "       'StartingInterestrate', 'RealEstate_Starting_Inflation',\n",
       "       'Payment_Status', 'age'],\n",
       "      dtype='object')"
      ]
     },
     "execution_count": 530,
     "metadata": {},
     "output_type": "execute_result"
    }
   ],
   "source": [
    "#checking weather age column is preseent in train_final data \n",
    "train_final.columns"
   ]
  },
  {
   "cell_type": "code",
   "execution_count": 531,
   "metadata": {},
   "outputs": [
    {
     "data": {
      "text/plain": [
       "Index(['Salary', 'ProfessionalLicensure', 'UtilitySpending',\n",
       "       'eCommerceAccount', 'SocialMediaAccount', 'NoOfProperties',\n",
       "       'Current_Instalment_Sequence', 'Starting_Instalment', 'Maturity_Period',\n",
       "       'Current_Outstanding', 'Current_Loan_to_Appraisedvalu_Percent',\n",
       "       'CurrentInterestrate', 'RealEstate_Current_Inflation', 'GDP',\n",
       "       'UnemploymentRate', 'Asset_type', 'Urban_Development', 'Villa_House',\n",
       "       'Investment_SelfOccupied', 'Starting_outstanding',\n",
       "       'Starting_Loan_to_Appraisedvalu_Percent', 'StartingInterestrate',\n",
       "       'RealEstate_Starting_Inflation', 'Payment_Status', 'age'],\n",
       "      dtype='object')"
      ]
     },
     "execution_count": 531,
     "metadata": {},
     "output_type": "execute_result"
    }
   ],
   "source": [
    "#checking weather age column is preseent in train_final data \n",
    "test_final.columns"
   ]
  },
  {
   "cell_type": "code",
   "execution_count": 532,
   "metadata": {},
   "outputs": [
    {
     "data": {
      "text/plain": [
       "(2774, 25)"
      ]
     },
     "execution_count": 532,
     "metadata": {},
     "output_type": "execute_result"
    }
   ],
   "source": [
    "test_final.shape"
   ]
  },
  {
   "cell_type": "code",
   "execution_count": 533,
   "metadata": {},
   "outputs": [],
   "source": [
    "train_final.to_excel(\"train_final1.xlsx\", sheet_name='Sheet_name_1')"
   ]
  },
  {
   "cell_type": "markdown",
   "metadata": {},
   "source": [
    "# No of left_Instalment"
   ]
  },
  {
   "cell_type": "code",
   "execution_count": 534,
   "metadata": {},
   "outputs": [],
   "source": [
    "#train_final[\"left_Instalment\"]=(train_final[\"Maturity_Period\"]-train_final[\"Current_Instalment_Sequence\"])"
   ]
  },
  {
   "cell_type": "code",
   "execution_count": 535,
   "metadata": {},
   "outputs": [],
   "source": [
    "#test_final[\"left_Instalment\"]=(test_final[\"Maturity_Period\"]-test_final[\"Current_Instalment_Sequence\"])"
   ]
  },
  {
   "cell_type": "markdown",
   "metadata": {},
   "source": [
    "# Total outstading left"
   ]
  },
  {
   "cell_type": "code",
   "execution_count": 536,
   "metadata": {},
   "outputs": [],
   "source": [
    "#train_final[\"Outstanding\"]=(train_final[\"Starting_outstanding\"]-train_final[\"Current_Outstanding\"])"
   ]
  },
  {
   "cell_type": "code",
   "execution_count": 537,
   "metadata": {},
   "outputs": [],
   "source": [
    "#test_final[\"Outstanding\"]=(test_final[\"Starting_outstanding\"]-test_final[\"Current_Outstanding\"])"
   ]
  },
  {
   "cell_type": "markdown",
   "metadata": {},
   "source": [
    "# percentage left to be paid"
   ]
  },
  {
   "cell_type": "code",
   "execution_count": 538,
   "metadata": {},
   "outputs": [],
   "source": [
    "#train_final[\"Appraised_valu_Percent\"]=(train_final[\"Starting_Loan_to_Appraisedvalu_Percent\"]-train_final[\"Current_Loan_to_Appraisedvalu_Percent\"])"
   ]
  },
  {
   "cell_type": "code",
   "execution_count": 539,
   "metadata": {},
   "outputs": [],
   "source": [
    "#test_final[\"Appraised_valu_Percent\"]=(test_final[\"Starting_Loan_to_Appraisedvalu_Percent\"]-test_final[\"Current_Loan_to_Appraisedvalu_Percent\"])"
   ]
  },
  {
   "cell_type": "markdown",
   "metadata": {},
   "source": [
    "# Change in RealEstate_Inflation"
   ]
  },
  {
   "cell_type": "code",
   "execution_count": 540,
   "metadata": {},
   "outputs": [],
   "source": [
    "#train_final[\"RealEstate_Inflation\"]=(train_final[\"RealEstate_Current_Inflation\"]-train_final[\"RealEstate_Starting_Inflation\"])"
   ]
  },
  {
   "cell_type": "code",
   "execution_count": 541,
   "metadata": {},
   "outputs": [],
   "source": [
    "#test_final=test_final.drop(['Maturity_Period','Current_Instalment_Sequence','Starting_outstanding','Current_Outstanding','Starting_Loan_to_Appraisedvalu_Percent','Current_Loan_to_Appraisedvalu_Percent','RealEstate_Current_Inflation','RealEstate_Starting_Inflation'],axis=1)"
   ]
  },
  {
   "cell_type": "code",
   "execution_count": 542,
   "metadata": {},
   "outputs": [
    {
     "data": {
      "text/plain": [
       "(11093, 26)"
      ]
     },
     "execution_count": 542,
     "metadata": {},
     "output_type": "execute_result"
    }
   ],
   "source": [
    "# checking final train shape \n",
    "train_final.shape"
   ]
  },
  {
   "cell_type": "markdown",
   "metadata": {},
   "source": [
    "# Spliting the data for model building"
   ]
  },
  {
   "cell_type": "code",
   "execution_count": 543,
   "metadata": {},
   "outputs": [
    {
     "data": {
      "text/plain": [
       "Index(['Salary', 'ProfessionalLicensure', 'UtilitySpending',\n",
       "       'eCommerceAccount', 'SocialMediaAccount', 'NoOfProperties',\n",
       "       'CreditRiskScore', 'Current_Instalment_Sequence', 'Starting_Instalment',\n",
       "       'Maturity_Period', 'Current_Outstanding',\n",
       "       'Current_Loan_to_Appraisedvalu_Percent', 'CurrentInterestrate',\n",
       "       'RealEstate_Current_Inflation', 'GDP', 'UnemploymentRate', 'Asset_type',\n",
       "       'Urban_Development', 'Villa_House', 'Investment_SelfOccupied',\n",
       "       'Starting_outstanding', 'Starting_Loan_to_Appraisedvalu_Percent',\n",
       "       'StartingInterestrate', 'RealEstate_Starting_Inflation',\n",
       "       'Payment_Status', 'age'],\n",
       "      dtype='object')"
      ]
     },
     "execution_count": 543,
     "metadata": {},
     "output_type": "execute_result"
    }
   ],
   "source": [
    "#checking columns intrain final data \n",
    "\n",
    "train_final.columns"
   ]
  },
  {
   "cell_type": "code",
   "execution_count": 544,
   "metadata": {},
   "outputs": [],
   "source": [
    "#importing librariy for spliting train dat a\n",
    "from sklearn.model_selection import train_test_split"
   ]
  },
  {
   "cell_type": "code",
   "execution_count": 545,
   "metadata": {},
   "outputs": [],
   "source": [
    "# assing target variable to y\n",
    "y=train_final.CreditRiskScore"
   ]
  },
  {
   "cell_type": "code",
   "execution_count": 546,
   "metadata": {},
   "outputs": [],
   "source": [
    "#assine x variable with final data \n",
    "X=train_final\n",
    "# droping target varible from final_data \n",
    "X.drop(columns=[\"CreditRiskScore\"],inplace=True)"
   ]
  },
  {
   "cell_type": "code",
   "execution_count": 547,
   "metadata": {},
   "outputs": [],
   "source": [
    "# Split Train and Test Data\n",
    "from sklearn.model_selection import train_test_split\n",
    "X_train, X_test, y_train, y_test = train_test_split(\n",
    "                                    X, y, random_state=8951, test_size=0.2)"
   ]
  },
  {
   "cell_type": "code",
   "execution_count": 548,
   "metadata": {},
   "outputs": [
    {
     "name": "stdout",
     "output_type": "stream",
     "text": [
      "(8874, 25)\n",
      "(2219, 25)\n",
      "(8874,)\n",
      "(2219,)\n"
     ]
    }
   ],
   "source": [
    "#checking shape of split data \n",
    "print(X_train.shape)\n",
    "print(X_test.shape)\n",
    "print(y_train.shape)\n",
    "print(y_test.shape)"
   ]
  },
  {
   "cell_type": "code",
   "execution_count": 549,
   "metadata": {},
   "outputs": [
    {
     "data": {
      "text/plain": [
       "Salary                                     float64\n",
       "ProfessionalLicensure                     category\n",
       "UtilitySpending                            float64\n",
       "eCommerceAccount                          category\n",
       "SocialMediaAccount                        category\n",
       "NoOfProperties                            category\n",
       "Current_Instalment_Sequence                  int64\n",
       "Starting_Instalment                          int64\n",
       "Maturity_Period                              int64\n",
       "Current_Outstanding                        float64\n",
       "Current_Loan_to_Appraisedvalu_Percent      float64\n",
       "CurrentInterestrate                        float64\n",
       "RealEstate_Current_Inflation               float64\n",
       "GDP                                        float64\n",
       "UnemploymentRate                           float64\n",
       "Asset_type                                category\n",
       "Urban_Development                         category\n",
       "Villa_House                               category\n",
       "Investment_SelfOccupied                   category\n",
       "Starting_outstanding                       float64\n",
       "Starting_Loan_to_Appraisedvalu_Percent     float64\n",
       "StartingInterestrate                       float64\n",
       "RealEstate_Starting_Inflation              float64\n",
       "Payment_Status                            category\n",
       "age                                          int64\n",
       "dtype: object"
      ]
     },
     "execution_count": 549,
     "metadata": {},
     "output_type": "execute_result"
    }
   ],
   "source": [
    "#checking dtypes of X_train data \n",
    "X_train.dtypes"
   ]
  },
  {
   "cell_type": "markdown",
   "metadata": {},
   "source": [
    "# seperate categorical and numerical attributes in both train and test"
   ]
  },
  {
   "cell_type": "code",
   "execution_count": 550,
   "metadata": {},
   "outputs": [],
   "source": [
    "#to seperate categorical and numerical attributes in both train and test\n",
    "\n",
    "X_train_cat=X_train[['Investment_SelfOccupied','ProfessionalLicensure','Urban_Development','eCommerceAccount','SocialMediaAccount','Asset_type','Villa_House','Payment_Status','NoOfProperties']]\n",
    "X_train_num=X_train[['Salary','UnemploymentRate','Starting_Instalment','RealEstate_Current_Inflation','GDP','Current_Instalment_Sequence','RealEstate_Starting_Inflation','UtilitySpending','Maturity_Period','Starting_Loan_to_Appraisedvalu_Percent','StartingInterestrate','CurrentInterestrate','Starting_outstanding','Current_Outstanding','Current_Loan_to_Appraisedvalu_Percent','age']]\n",
    "\n",
    "X_test_cat=X_test[['Investment_SelfOccupied','ProfessionalLicensure','Urban_Development','eCommerceAccount','SocialMediaAccount','Asset_type','Villa_House','Payment_Status','NoOfProperties']]\n",
    "X_test_num=X_test[['Salary','UnemploymentRate','Starting_Instalment','RealEstate_Current_Inflation','GDP','Current_Instalment_Sequence','RealEstate_Starting_Inflation','UtilitySpending','Maturity_Period','Starting_Loan_to_Appraisedvalu_Percent','StartingInterestrate','CurrentInterestrate','Starting_outstanding','Current_Outstanding','Current_Loan_to_Appraisedvalu_Percent','age']]\n",
    "\n",
    "test_split_cat=test_final[['Investment_SelfOccupied','ProfessionalLicensure','Urban_Development','eCommerceAccount','SocialMediaAccount','Asset_type','Villa_House','Payment_Status','NoOfProperties']]\n",
    "test_split_num=test_final[['UnemploymentRate','Starting_Instalment','RealEstate_Current_Inflation','GDP','Current_Instalment_Sequence','RealEstate_Starting_Inflation','UtilitySpending','Maturity_Period','Starting_Loan_to_Appraisedvalu_Percent','StartingInterestrate','CurrentInterestrate','Starting_outstanding','Salary','Current_Outstanding','Current_Loan_to_Appraisedvalu_Percent','age']]"
   ]
  },
  {
   "cell_type": "code",
   "execution_count": 551,
   "metadata": {},
   "outputs": [
    {
     "name": "stdout",
     "output_type": "stream",
     "text": [
      "(8874, 16)\n",
      "(2219, 16)\n",
      "(2774, 16)\n"
     ]
    }
   ],
   "source": [
    "#checking the shape of num columns \n",
    "print(X_train_num.shape)\n",
    "print(X_test_num.shape)\n",
    "print(test_split_num.shape)"
   ]
  },
  {
   "cell_type": "code",
   "execution_count": 552,
   "metadata": {},
   "outputs": [
    {
     "name": "stdout",
     "output_type": "stream",
     "text": [
      "(8874, 9)\n",
      "(2219, 9)\n",
      "(2774, 9)\n"
     ]
    }
   ],
   "source": [
    "#checking the shape of cataory columns \n",
    "print(X_train_cat.shape)\n",
    "print(X_test_cat.shape)\n",
    "print(test_split_cat.shape)"
   ]
  },
  {
   "cell_type": "markdown",
   "metadata": {},
   "source": [
    "# Creating dummies"
   ]
  },
  {
   "cell_type": "code",
   "execution_count": 553,
   "metadata": {},
   "outputs": [],
   "source": [
    "#dummies of the data\n",
    "X_train_cat=pd.get_dummies(X_train_cat)\n",
    "X_test_cat=pd.get_dummies(X_test_cat)\n",
    "test_split_cat=pd.get_dummies(test_split_cat)"
   ]
  },
  {
   "cell_type": "code",
   "execution_count": 554,
   "metadata": {},
   "outputs": [
    {
     "name": "stdout",
     "output_type": "stream",
     "text": [
      "(8874, 21)\n",
      "(2219, 21)\n",
      "(2774, 21)\n"
     ]
    }
   ],
   "source": [
    "#checking shape after dummifing data \n",
    "print(X_train_cat.shape)\n",
    "print(X_test_cat.shape)\n",
    "print(test_split_cat.shape)"
   ]
  },
  {
   "cell_type": "markdown",
   "metadata": {},
   "source": [
    "# Merging data"
   ]
  },
  {
   "cell_type": "code",
   "execution_count": 555,
   "metadata": {},
   "outputs": [],
   "source": [
    "#final merging of the data\n",
    "X_train_final=pd.concat([X_train_num,X_train_cat],axis=1)\n",
    "X_test_final=pd.concat([X_test_num,X_test_cat],axis=1)\n",
    "test_final=pd.concat([test_split_num,test_split_cat],axis=1)"
   ]
  },
  {
   "cell_type": "code",
   "execution_count": 556,
   "metadata": {},
   "outputs": [
    {
     "name": "stdout",
     "output_type": "stream",
     "text": [
      "(8874, 37)\n",
      "(2219, 37)\n",
      "(2774, 37)\n"
     ]
    }
   ],
   "source": [
    "# shape of final mearge data \n",
    "print(X_train_final.shape)\n",
    "print(X_test_final.shape)\n",
    "print(test_final.shape)"
   ]
  },
  {
   "cell_type": "markdown",
   "metadata": {},
   "source": [
    "# Machine Learning Models¶"
   ]
  },
  {
   "cell_type": "code",
   "execution_count": 557,
   "metadata": {},
   "outputs": [],
   "source": [
    "# Machine Learning Models\n",
    "from sklearn.linear_model import LinearRegression\n",
    "from sklearn.ensemble import RandomForestRegressor, GradientBoostingRegressor\n",
    "from sklearn.svm import SVR"
   ]
  },
  {
   "cell_type": "markdown",
   "metadata": {},
   "source": [
    "# DecisionTreeRegressor\n"
   ]
  },
  {
   "cell_type": "code",
   "execution_count": 558,
   "metadata": {},
   "outputs": [
    {
     "data": {
      "text/plain": [
       "DecisionTreeRegressor(criterion='mse', max_depth=None, max_features=None,\n",
       "           max_leaf_nodes=None, min_impurity_decrease=0.0,\n",
       "           min_impurity_split=None, min_samples_leaf=1,\n",
       "           min_samples_split=2, min_weight_fraction_leaf=0.0,\n",
       "           presort=False, random_state=None, splitter='best')"
      ]
     },
     "execution_count": 558,
     "metadata": {},
     "output_type": "execute_result"
    }
   ],
   "source": [
    "#Decision tree model\n",
    "from sklearn.tree import DecisionTreeRegressor\n",
    "model=DecisionTreeRegressor()\n",
    "#fitting the model to train data \n",
    "model.fit(X_train_final,y_train)"
   ]
  },
  {
   "cell_type": "markdown",
   "metadata": {},
   "source": [
    "# Build Model with different parameters¶"
   ]
  },
  {
   "cell_type": "code",
   "execution_count": 559,
   "metadata": {},
   "outputs": [
    {
     "data": {
      "text/plain": [
       "DecisionTreeRegressor(criterion='mse', max_depth=5, max_features=None,\n",
       "           max_leaf_nodes=None, min_impurity_decrease=0.0,\n",
       "           min_impurity_split=None, min_samples_leaf=1,\n",
       "           min_samples_split=2, min_weight_fraction_leaf=0.0,\n",
       "           presort=False, random_state=None, splitter='best')"
      ]
     },
     "execution_count": 559,
     "metadata": {},
     "output_type": "execute_result"
    }
   ],
   "source": [
    "#bulding multiple decision trees of differnt parameter \n",
    "#model1\n",
    "regr_1 = DecisionTreeRegressor(max_depth=2)\n",
    "#model2\n",
    "regr_2 = DecisionTreeRegressor(max_depth=5)\n",
    "#fitting model1 in train data \n",
    "regr_1.fit(X_train_final, y_train)\n",
    "#fitting model2 in train data \n",
    "regr_2.fit(X_train_final, y_train)"
   ]
  },
  {
   "cell_type": "code",
   "execution_count": 560,
   "metadata": {},
   "outputs": [],
   "source": [
    "# predict on traindata with two different models\n",
    "#prediction of model1 data\n",
    "y_1_train = regr_1.predict(X_train_final)\n",
    "y_1_test=regr_1.predict(X=X_test_final)\n",
    "#predictions of model2 data\n",
    "y_2_train = regr_2.predict(X_train_final)\n",
    "y_2_test=regr_2.predict(X=X_test_final)"
   ]
  },
  {
   "cell_type": "code",
   "execution_count": 561,
   "metadata": {},
   "outputs": [
    {
     "name": "stdout",
     "output_type": "stream",
     "text": [
      "5652.042448612062\n",
      "3828.142740740373\n"
     ]
    }
   ],
   "source": [
    "# calculating error for both models with MSE\n",
    "from sklearn.metrics import mean_squared_error\n",
    "print((mean_squared_error(y_train,y_1_train)))\n",
    "print((mean_squared_error(y_train,y_2_train)))"
   ]
  },
  {
   "cell_type": "markdown",
   "metadata": {},
   "source": [
    "# Root Mean Square error for first regression model"
   ]
  },
  {
   "cell_type": "code",
   "execution_count": 562,
   "metadata": {},
   "outputs": [
    {
     "name": "stdout",
     "output_type": "stream",
     "text": [
      "Root Mean Square error of validation: 75.92194589483556\n",
      "Root Mean Square error of train: 75.18006683032452\n"
     ]
    }
   ],
   "source": [
    "#evaluating the model with RMSE\n",
    "print(\"Root Mean Square error of validation:\", np.sqrt(metrics.mean_squared_error(y_pred=y_1_test,y_true=y_test)))\n",
    "print(\"Root Mean Square error of train:\", np.sqrt(metrics.mean_squared_error(y_pred=y_1_train,y_true=y_train)))"
   ]
  },
  {
   "cell_type": "markdown",
   "metadata": {},
   "source": [
    "# Root Mean Square error for second regression model"
   ]
  },
  {
   "cell_type": "code",
   "execution_count": 563,
   "metadata": {},
   "outputs": [
    {
     "name": "stdout",
     "output_type": "stream",
     "text": [
      "Root Mean Square error of validation: 64.68868702710078\n",
      "Root Mean Square error of train: 61.87198672048905\n"
     ]
    }
   ],
   "source": [
    "#evaluating the model with RMSE\n",
    "print(\"Root Mean Square error of validation:\", np.sqrt(metrics.mean_squared_error(y_pred=y_2_test,y_true=y_test)))\n",
    "print(\"Root Mean Square error of train:\", np.sqrt(metrics.mean_squared_error(y_pred=y_2_train,y_true=y_train)))"
   ]
  },
  {
   "cell_type": "code",
   "execution_count": 564,
   "metadata": {},
   "outputs": [
    {
     "data": {
      "text/plain": [
       "array([0.00000000e+00, 0.00000000e+00, 0.00000000e+00, 0.00000000e+00,\n",
       "       0.00000000e+00, 2.43126322e-02, 1.66224740e-04, 1.34869177e-04,\n",
       "       6.30219731e-02, 2.26215566e-05, 2.18373031e-04, 8.42559242e-03,\n",
       "       5.33422340e-04, 2.38150142e-02, 8.78836833e-01, 0.00000000e+00,\n",
       "       0.00000000e+00, 0.00000000e+00, 0.00000000e+00, 0.00000000e+00,\n",
       "       0.00000000e+00, 0.00000000e+00, 0.00000000e+00, 0.00000000e+00,\n",
       "       0.00000000e+00, 0.00000000e+00, 0.00000000e+00, 0.00000000e+00,\n",
       "       0.00000000e+00, 0.00000000e+00, 5.12444289e-04, 0.00000000e+00,\n",
       "       0.00000000e+00, 0.00000000e+00, 0.00000000e+00, 0.00000000e+00,\n",
       "       0.00000000e+00])"
      ]
     },
     "execution_count": 564,
     "metadata": {},
     "output_type": "execute_result"
    }
   ],
   "source": [
    "#important features used in second model \n",
    "regr_2.feature_importances_"
   ]
  },
  {
   "cell_type": "code",
   "execution_count": 565,
   "metadata": {},
   "outputs": [
    {
     "data": {
      "image/png": "[encoded data removed]",
      "text/plain": [
       "<Figure size 1080x576 with 1 Axes>"
      ]
     },
     "metadata": {
      "needs_background": "light"
     },
     "output_type": "display_data"
    }
   ],
   "source": [
    "# ploting the graph for important features \n",
    "import numpy as np\n",
    "import matplotlib.pyplot as plt\n",
    "plt.rcParams[\"figure.figsize\"] = (15,8)\n",
    "features = X_train_final.columns\n",
    "importances = regr_2.feature_importances_\n",
    "indices = np.argsort(importances)\n",
    "\n",
    "plt.title('Feature Importances')\n",
    "plt.barh(range(len(indices)), importances[indices], color='b', align='center')\n",
    "plt.yticks(range(len(indices)), [features[i] for i in indices])\n",
    "plt.xlabel('Relative Importance')\n",
    "plt.show()"
   ]
  },
  {
   "cell_type": "markdown",
   "metadata": {},
   "source": [
    "# GridSearch Cross validation"
   ]
  },
  {
   "cell_type": "code",
   "execution_count": 566,
   "metadata": {},
   "outputs": [
    {
     "name": "stderr",
     "output_type": "stream",
     "text": [
      "C:\\Users\\Navi\\Anaconda3\\lib\\site-packages\\sklearn\\model_selection\\_split.py:2053: FutureWarning: You should specify a value for 'cv' instead of relying on the default value. The default value will change from 3 to 5 in version 0.22.\n",
      "  warnings.warn(CV_WARNING, FutureWarning)\n"
     ]
    },
    {
     "name": "stdout",
     "output_type": "stream",
     "text": [
      "0.8124525457024798 {'max_depth': 5}\n"
     ]
    }
   ],
   "source": [
    "#from sklearn.model_selection import GridSearchCV\n",
    "from sklearn.model_selection import GridSearchCV\n",
    "parameters = {'max_depth':list(range(3,15))}\n",
    "clf = GridSearchCV(DecisionTreeRegressor(), parameters, n_jobs=4)\n",
    "clf.fit(X=X_train_final, y=y_train)\n",
    "tree_model = clf.best_estimator_\n",
    "print (clf.best_score_, clf.best_params_) "
   ]
  },
  {
   "cell_type": "code",
   "execution_count": 567,
   "metadata": {},
   "outputs": [],
   "source": [
    "#predicting on train data of grid search\n",
    "y_grid_desion_train=tree_model.predict(X_train_final)\n",
    "y_grid_desion_test=tree_model.predict(X_test_final)"
   ]
  },
  {
   "cell_type": "code",
   "execution_count": 568,
   "metadata": {},
   "outputs": [
    {
     "name": "stdout",
     "output_type": "stream",
     "text": [
      "Root Mean Square error of validation: 64.68868702710078\n",
      "Root Mean Square error of train: 61.87198672048905\n"
     ]
    }
   ],
   "source": [
    "#evaluating the model with RMSE\n",
    "print(\"Root Mean Square error of validation:\", np.sqrt(metrics.mean_squared_error(y_pred=y_grid_desion_test,y_true=y_test)))\n",
    "print(\"Root Mean Square error of train:\", np.sqrt(metrics.mean_squared_error(y_pred=y_grid_desion_train,y_true=y_train)))"
   ]
  },
  {
   "cell_type": "markdown",
   "metadata": {},
   "source": [
    "# Random forest "
   ]
  },
  {
   "cell_type": "code",
   "execution_count": 569,
   "metadata": {},
   "outputs": [],
   "source": [
    "# Random Forest algorithm\n",
    "# Training the Algorithm\n",
    "from sklearn.ensemble import RandomForestRegressor\n",
    "rfr = RandomForestRegressor(n_estimators=500,n_jobs=-1)\n",
    "#fitting random forest model to train data \n",
    "rfr1=rfr.fit(X_train_final,y_train)\n"
   ]
  },
  {
   "cell_type": "code",
   "execution_count": 570,
   "metadata": {},
   "outputs": [],
   "source": [
    "#predicting on train data of random forest \n",
    "#prediction on train \n",
    "y_rfr_train_preds=rfr.predict(X=X_train_final)\n",
    "#predictions on val \n",
    "y_rfr_test_preds=rfr.predict(X=X_test_final)\n",
    "#predicting on test\n",
    "y_rfr_sub_preds=rfr.predict(X=test_final)"
   ]
  },
  {
   "cell_type": "code",
   "execution_count": 571,
   "metadata": {},
   "outputs": [],
   "source": [
    "#converting test prediction to dataframes \n",
    "y_rfr_sub_preds=pd.DataFrame(y_rfr_sub_preds)"
   ]
  },
  {
   "cell_type": "code",
   "execution_count": 572,
   "metadata": {},
   "outputs": [],
   "source": [
    "#saving the test prediction for submission \n",
    "y_rfr_sub_preds.to_csv(\"submission2.csv\",index=False)"
   ]
  },
  {
   "cell_type": "code",
   "execution_count": 573,
   "metadata": {},
   "outputs": [
    {
     "name": "stdout",
     "output_type": "stream",
     "text": [
      "Root Mean Square error of validation: 63.50272566345241\n",
      "Root Mean Square error of train: 23.298611352574323\n"
     ]
    }
   ],
   "source": [
    "#evaluating the model with RMSE\n",
    "from sklearn import metrics\n",
    "print(\"Root Mean Square error of validation:\", np.sqrt(metrics.mean_squared_error(y_pred=y_rfr_test_preds,y_true=y_test)))\n",
    "print(\"Root Mean Square error of train:\", np.sqrt(metrics.mean_squared_error(y_pred=y_rfr_train_preds,y_true=y_train)))"
   ]
  },
  {
   "cell_type": "markdown",
   "metadata": {},
   "source": [
    "# Tuning Random Forest"
   ]
  },
  {
   "cell_type": "code",
   "execution_count": 574,
   "metadata": {},
   "outputs": [
    {
     "data": {
      "text/plain": [
       "RandomForestRegressor(bootstrap=True, criterion='mse', max_depth=8,\n",
       "           max_features='sqrt', max_leaf_nodes=None,\n",
       "           min_impurity_decrease=0.0, min_impurity_split=None,\n",
       "           min_samples_leaf=1, min_samples_split=2,\n",
       "           min_weight_fraction_leaf=0.0, n_estimators=300, n_jobs=-1,\n",
       "           oob_score=False, random_state=None, verbose=0, warm_start=False)"
      ]
     },
     "execution_count": 574,
     "metadata": {},
     "output_type": "execute_result"
    }
   ],
   "source": [
    "# Random Forest algorithm\n",
    "# Training the Algorithm\n",
    "rfr_tune = RandomForestRegressor(n_estimators=300,n_jobs=-1,max_depth=8,max_features=\"sqrt\")\n",
    "rfr_tune.fit(X_train_final,y_train)"
   ]
  },
  {
   "cell_type": "code",
   "execution_count": 575,
   "metadata": {},
   "outputs": [],
   "source": [
    "#predicting on train data of random forest tune\n",
    "#prediction on train\n",
    "y_rfr_train_preds_tune=rfr_tune.predict(X=X_train_final)\n",
    "#predictions on val \n",
    "y_rfr_test_preds_tune=rfr_tune.predict(X=X_test_final)\n",
    "#predictions on test\n",
    "y_rfr_sub_preds_tune=rfr_tune.predict(X=test_final)"
   ]
  },
  {
   "cell_type": "code",
   "execution_count": 576,
   "metadata": {},
   "outputs": [
    {
     "name": "stdout",
     "output_type": "stream",
     "text": [
      "Root Mean Square error of validation: 66.27286690193175\n",
      "Root Mean Square error of train: 62.15547533136631\n"
     ]
    }
   ],
   "source": [
    "#evaluating the model with RMSE\n",
    "print(\"Root Mean Square error of validation:\", np.sqrt(metrics.mean_squared_error(y_pred=y_rfr_test_preds_tune,y_true=y_test)))\n",
    "print(\"Root Mean Square error of train:\", np.sqrt(metrics.mean_squared_error(y_pred=y_rfr_train_preds_tune,y_true=y_train)))"
   ]
  },
  {
   "cell_type": "code",
   "execution_count": 577,
   "metadata": {},
   "outputs": [],
   "source": [
    "#converting test prediction to dataframes\n",
    "y_rfr_sub_preds_tune=pd.DataFrame(y_rfr_sub_preds_tune)"
   ]
  },
  {
   "cell_type": "code",
   "execution_count": 578,
   "metadata": {},
   "outputs": [],
   "source": [
    "#saving the test prediction for submission\n",
    "y_rfr_sub_preds_tune.to_csv(\"submission4.csv\",index=False)"
   ]
  },
  {
   "cell_type": "code",
   "execution_count": 579,
   "metadata": {},
   "outputs": [
    {
     "data": {
      "image/png": "[encoded data removed]",
      "text/plain": [
       "<Figure size 1080x576 with 1 Axes>"
      ]
     },
     "metadata": {
      "needs_background": "light"
     },
     "output_type": "display_data"
    }
   ],
   "source": [
    "# ploting the graph for important features \n",
    "import numpy as np\n",
    "import matplotlib.pyplot as plt\n",
    "plt.rcParams[\"figure.figsize\"] = (15,8)\n",
    "features = X_train_final.columns\n",
    "importances = rfr_tune.feature_importances_\n",
    "indices = np.argsort(importances)\n",
    "\n",
    "plt.title('Feature Importances')\n",
    "plt.barh(range(len(indices)), importances[indices], color='b', align='center')\n",
    "plt.yticks(range(len(indices)), [features[i] for i in indices])\n",
    "plt.xlabel('Relative Importance')\n",
    "plt.show()"
   ]
  },
  {
   "cell_type": "markdown",
   "metadata": {},
   "source": [
    " # Adaboost Model"
   ]
  },
  {
   "cell_type": "code",
   "execution_count": 580,
   "metadata": {},
   "outputs": [],
   "source": [
    "#Ada boost model \n",
    "from sklearn.ensemble import AdaBoostRegressor\n",
    "from sklearn.tree import DecisionTreeRegressor"
   ]
  },
  {
   "cell_type": "code",
   "execution_count": 581,
   "metadata": {},
   "outputs": [
    {
     "data": {
      "text/plain": [
       "AdaBoostRegressor(base_estimator=DecisionTreeRegressor(criterion='mse', max_depth=2, max_features=None,\n",
       "           max_leaf_nodes=None, min_impurity_decrease=0.0,\n",
       "           min_impurity_split=None, min_samples_leaf=1,\n",
       "           min_samples_split=2, min_weight_fraction_leaf=0.0,\n",
       "           presort=False, random_state=None, splitter='best'),\n",
       "         learning_rate=0.01, loss='linear', n_estimators=10,\n",
       "         random_state=None)"
      ]
     },
     "execution_count": 581,
     "metadata": {},
     "output_type": "execute_result"
    }
   ],
   "source": [
    "#assining th model \n",
    "Adaboost_model = AdaBoostRegressor(\n",
    "    DecisionTreeRegressor(max_depth=2),\n",
    "    n_estimators=10,\n",
    "    learning_rate=0.01)\n",
    "\n",
    "#fitting models \n",
    "Adaboost_model.fit(X_train_final, y_train)"
   ]
  },
  {
   "cell_type": "code",
   "execution_count": 582,
   "metadata": {},
   "outputs": [],
   "source": [
    "#predicting on train data of Ada boost model \n",
    "y_pred_ada_train=Adaboost_model.predict(X_train_final)\n",
    "y_pred_ada_test=Adaboost_model.predict(X_test_final)"
   ]
  },
  {
   "cell_type": "code",
   "execution_count": 583,
   "metadata": {},
   "outputs": [
    {
     "name": "stdout",
     "output_type": "stream",
     "text": [
      "Root Mean Square error of validation: 75.27009283607485\n",
      "Root Mean Square error of train: 74.64550567320649\n"
     ]
    }
   ],
   "source": [
    "#evaluating the model with RMSE\n",
    "print(\"Root Mean Square error of validation:\", np.sqrt(metrics.mean_squared_error(y_pred=y_pred_ada_test,y_true=y_test)))\n",
    "print(\"Root Mean Square error of train:\", np.sqrt(metrics.mean_squared_error(y_pred=y_pred_ada_train,y_true=y_train)))"
   ]
  },
  {
   "cell_type": "code",
   "execution_count": 584,
   "metadata": {},
   "outputs": [
    {
     "data": {
      "image/png": "[encoded data removed]",
      "text/plain": [
       "<Figure size 1080x576 with 1 Axes>"
      ]
     },
     "metadata": {
      "needs_background": "light"
     },
     "output_type": "display_data"
    }
   ],
   "source": [
    "# ploting the graph for important features \n",
    "import numpy as np\n",
    "import matplotlib.pyplot as plt\n",
    "plt.rcParams[\"figure.figsize\"] = (15,8)\n",
    "features = X_train_final.columns\n",
    "importances = Adaboost_model.feature_importances_\n",
    "indices = np.argsort(importances)\n",
    "\n",
    "plt.title('Feature Importances')\n",
    "plt.barh(range(len(indices)), importances[indices], color='b', align='center')\n",
    "plt.yticks(range(len(indices)), [features[i] for i in indices])\n",
    "plt.xlabel('Relative Importance')\n",
    "plt.show()"
   ]
  },
  {
   "cell_type": "markdown",
   "metadata": {},
   "source": [
    "# Adaboost_model GridSearch Cross Validation"
   ]
  },
  {
   "cell_type": "code",
   "execution_count": 585,
   "metadata": {},
   "outputs": [
    {
     "name": "stderr",
     "output_type": "stream",
     "text": [
      "C:\\Users\\Navi\\Anaconda3\\lib\\site-packages\\sklearn\\model_selection\\_split.py:2053: FutureWarning: You should specify a value for 'cv' instead of relying on the default value. The default value will change from 3 to 5 in version 0.22.\n",
      "  warnings.warn(CV_WARNING, FutureWarning)\n"
     ]
    },
    {
     "name": "stdout",
     "output_type": "stream",
     "text": [
      "0.7791312518184833 {'learning_rate': 0.9, 'n_estimators': 100}\n"
     ]
    }
   ],
   "source": [
    "#from sklearn.model_selection import GridSearchCV\n",
    "from sklearn.model_selection import GridSearchCV\n",
    "param_grid = {'n_estimators':[100,150,200], 'learning_rate' : [0.1,0.5,0.9]}\n",
    "clf = GridSearchCV(AdaBoostRegressor(\n",
    "    DecisionTreeRegressor(max_depth=2)), param_grid, n_jobs=4)\n",
    "clf.fit(X=X_train_final, y=y_train)\n",
    "ada_model = clf.best_estimator_\n",
    "print (clf.best_score_, clf.best_params_) "
   ]
  },
  {
   "cell_type": "code",
   "execution_count": 586,
   "metadata": {},
   "outputs": [],
   "source": [
    "#predicting on train data of Ada boost model\n",
    "y_pred_ada_train_tune=ada_model.predict(X_train_final)\n",
    "y_pred_ada_test_tune=ada_model.predict(X_test_final)"
   ]
  },
  {
   "cell_type": "code",
   "execution_count": 587,
   "metadata": {},
   "outputs": [
    {
     "name": "stdout",
     "output_type": "stream",
     "text": [
      "Root Mean Square error of validation: 70.25673046794164\n",
      "Root Mean Square error of train: 69.95136583751275\n"
     ]
    }
   ],
   "source": [
    "#evaluating the model with RMSE\n",
    "print(\"Root Mean Square error of validation:\", np.sqrt(metrics.mean_squared_error(y_pred=y_pred_ada_test_tune,y_true=y_test)))\n",
    "print(\"Root Mean Square error of train:\", np.sqrt(metrics.mean_squared_error(y_pred=y_pred_ada_train_tune,y_true=y_train)))"
   ]
  },
  {
   "cell_type": "markdown",
   "metadata": {},
   "source": [
    "# xgb_"
   ]
  },
  {
   "cell_type": "code",
   "execution_count": 588,
   "metadata": {},
   "outputs": [],
   "source": [
    "#XGBRegressor\n",
    "from sklearn.ensemble import GradientBoostingRegressor\n",
    "from xgboost import XGBRegressor"
   ]
  },
  {
   "cell_type": "code",
   "execution_count": 589,
   "metadata": {},
   "outputs": [],
   "source": [
    "#assining the xgb model \n",
    "xgb = XGBRegressor(nthread=5,max_depth=4,learning_rate=0.03,n_estimators=150)\n",
    "# fitting the model \n",
    "model_xgb= xgb.fit(X_train_final,y_train)"
   ]
  },
  {
   "cell_type": "code",
   "execution_count": 590,
   "metadata": {},
   "outputs": [],
   "source": [
    "#predicting on train data of xgb model\n",
    "y_pred_xgb_train = xgb.predict(X_train_final)\n",
    "y__pred_xgb_test=xgb.predict(X_test_final)"
   ]
  },
  {
   "cell_type": "code",
   "execution_count": 591,
   "metadata": {},
   "outputs": [],
   "source": [
    "#making train and test colums in same columns  \n",
    "test_final = test_final[X_train_final.columns]"
   ]
  },
  {
   "cell_type": "code",
   "execution_count": 592,
   "metadata": {},
   "outputs": [],
   "source": [
    "#predicting on test data of xgb model\n",
    "y_xgb_sub_preds=xgb.predict(test_final)"
   ]
  },
  {
   "cell_type": "code",
   "execution_count": 593,
   "metadata": {},
   "outputs": [
    {
     "name": "stdout",
     "output_type": "stream",
     "text": [
      "Root Mean Square error of validation: 64.48446599597955\n",
      "Root Mean Square error of train: 61.54694993633053\n"
     ]
    }
   ],
   "source": [
    "#evaluating the model with RMSE\n",
    "print(\"Root Mean Square error of validation:\", np.sqrt(metrics.mean_squared_error(y_pred=y__pred_xgb_test,y_true=y_test)))\n",
    "print(\"Root Mean Square error of train:\", np.sqrt(metrics.mean_squared_error(y_pred=y_pred_xgb_train,y_true=y_train)))"
   ]
  },
  {
   "cell_type": "code",
   "execution_count": 594,
   "metadata": {},
   "outputs": [
    {
     "data": {
      "image/png": "[encoded data removed]",
      "text/plain": [
       "<Figure size 1080x576 with 1 Axes>"
      ]
     },
     "metadata": {
      "needs_background": "light"
     },
     "output_type": "display_data"
    }
   ],
   "source": [
    "# ploting the graph for important features\n",
    "import numpy as np\n",
    "import matplotlib.pyplot as plt\n",
    "plt.rcParams[\"figure.figsize\"] = (15,8)\n",
    "features = X_train_final.columns\n",
    "importances = xgb.feature_importances_\n",
    "indices = np.argsort(importances)\n",
    "\n",
    "plt.title('Feature Importances')\n",
    "plt.barh(range(len(indices)), importances[indices], color='b', align='center')\n",
    "plt.yticks(range(len(indices)), [features[i] for i in indices])\n",
    "plt.xlabel('Relative Importance')\n",
    "plt.show()"
   ]
  },
  {
   "cell_type": "markdown",
   "metadata": {},
   "source": [
    "# XG_Boost with Tuning"
   ]
  },
  {
   "cell_type": "code",
   "execution_count": 595,
   "metadata": {},
   "outputs": [],
   "source": [
    "from sklearn.model_selection import GridSearchCV\n",
    "import xgboost as xgb\n",
    "\n",
    "# Model in use\n",
    "xgb_Grid = xgb.XGBRegressor()\n",
    " \n",
    "# Use a grid over parameters of interest\n",
    "param_grid = { \n",
    "           \"nthread\":[4,5], \n",
    "           \"max_depth\" : [5, 10],\n",
    "           \"learning_rate\" : [0.05,0.1, 0.2],\n",
    "           \"n_estimators\": [100,200,250,300,350]\n",
    "           }\n",
    " \n",
    "xgb_grid_model = GridSearchCV(estimator=xgb_Grid, param_grid=param_grid,cv=4)"
   ]
  },
  {
   "cell_type": "code",
   "execution_count": 596,
   "metadata": {},
   "outputs": [
    {
     "data": {
      "text/plain": [
       "GridSearchCV(cv=4, error_score='raise-deprecating',\n",
       "       estimator=XGBRegressor(base_score=0.5, booster='gbtree', colsample_bylevel=1,\n",
       "       colsample_bytree=1, gamma=0, learning_rate=0.1, max_delta_step=0,\n",
       "       max_depth=3, min_child_weight=1, missing=None, n_estimators=100,\n",
       "       n_jobs=1, nthread=None, objective='reg:linear', random_state=0,\n",
       "       reg_alpha=0, reg_lambda=1, scale_pos_weight=1, seed=None,\n",
       "       silent=True, subsample=1),\n",
       "       fit_params=None, iid='warn', n_jobs=None,\n",
       "       param_grid={'nthread': [4, 5], 'max_depth': [5, 10], 'learning_rate': [0.05, 0.1, 0.2], 'n_estimators': [100, 200, 250, 300, 350]},\n",
       "       pre_dispatch='2*n_jobs', refit=True, return_train_score='warn',\n",
       "       scoring=None, verbose=0)"
      ]
     },
     "execution_count": 596,
     "metadata": {},
     "output_type": "execute_result"
    }
   ],
   "source": [
    "#model fitting tha train data \n",
    "xgb_grid_model.fit(X_train_final,y_train)"
   ]
  },
  {
   "cell_type": "code",
   "execution_count": 597,
   "metadata": {},
   "outputs": [],
   "source": [
    "#predicting on train data of xgb model\n",
    "y_xgb_train_preds_tune=xgb_grid_model.predict(X=X_train_final)\n",
    "y_xgb_test_preds_tune=xgb_grid_model.predict(X=X_test_final)"
   ]
  },
  {
   "cell_type": "code",
   "execution_count": 598,
   "metadata": {},
   "outputs": [],
   "source": [
    "#predicting on test data of xgb model\n",
    "y_xgb_sub_preds_tune=xgb_grid_model.predict(X=test_final)"
   ]
  },
  {
   "cell_type": "code",
   "execution_count": 599,
   "metadata": {},
   "outputs": [
    {
     "name": "stdout",
     "output_type": "stream",
     "text": [
      "Root Mean Square error of validation: 63.518109460178955\n",
      "Root Mean Square error of train: 58.23179654919547\n"
     ]
    }
   ],
   "source": [
    "#evaluating the model with RMSE\n",
    "print(\"Root Mean Square error of validation:\", np.sqrt(metrics.mean_squared_error(y_pred=y_xgb_test_preds_tune,y_true=y_test)))\n",
    "print(\"Root Mean Square error of train:\", np.sqrt(metrics.mean_squared_error(y_pred=y_xgb_train_preds_tune,y_true=y_train)))"
   ]
  },
  {
   "cell_type": "code",
   "execution_count": 600,
   "metadata": {},
   "outputs": [],
   "source": [
    "# converting the predictions in dataframe \n",
    "y_xgb_sub_preds_tune=pd.DataFrame(y_xgb_sub_preds_tune)"
   ]
  },
  {
   "cell_type": "code",
   "execution_count": 601,
   "metadata": {},
   "outputs": [],
   "source": [
    "#saving th predictions in csv for submission \n",
    "y_xgb_sub_preds_tune.to_csv(\"submission612.csv\",index=False)"
   ]
  },
  {
   "cell_type": "markdown",
   "metadata": {},
   "source": [
    "# svm model"
   ]
  },
  {
   "cell_type": "code",
   "execution_count": 602,
   "metadata": {},
   "outputs": [],
   "source": [
    "from sklearn import svm"
   ]
  },
  {
   "cell_type": "code",
   "execution_count": 603,
   "metadata": {},
   "outputs": [
    {
     "name": "stderr",
     "output_type": "stream",
     "text": [
      "C:\\Users\\Navi\\Anaconda3\\lib\\site-packages\\sklearn\\svm\\base.py:196: FutureWarning: The default value of gamma will change from 'auto' to 'scale' in version 0.22 to account better for unscaled features. Set gamma explicitly to 'auto' or 'scale' to avoid this warning.\n",
      "  \"avoid this warning.\", FutureWarning)\n"
     ]
    },
    {
     "data": {
      "text/plain": [
       "SVR(C=2, cache_size=200, coef0=0.0, degree=3, epsilon=0.1,\n",
       "  gamma='auto_deprecated', kernel='rbf', max_iter=-1, shrinking=True,\n",
       "  tol=0.001, verbose=False)"
      ]
     },
     "execution_count": 603,
     "metadata": {},
     "output_type": "execute_result"
    }
   ],
   "source": [
    "model= svm.SVR(C=2,kernel=\"rbf\")\n",
    "model.fit(X_train_final,y_train)"
   ]
  },
  {
   "cell_type": "code",
   "execution_count": 604,
   "metadata": {},
   "outputs": [],
   "source": [
    "#predicting on train data of xgb model\n",
    "y_train_svr=model.predict(X=X_train_final)\n",
    "y_test_svr=model.predict(X=X_test_final)"
   ]
  },
  {
   "cell_type": "code",
   "execution_count": 605,
   "metadata": {},
   "outputs": [
    {
     "name": "stdout",
     "output_type": "stream",
     "text": [
      "Root Mean Square error of validation: 146.80185340493006\n",
      "Root Mean Square error of train: 147.32379337808985\n"
     ]
    }
   ],
   "source": [
    "#evaluating the model with RMSE\n",
    "print(\"Root Mean Square error of validation:\", np.sqrt(metrics.mean_squared_error(y_pred=y_test_svr,y_true=y_test)))\n",
    "print(\"Root Mean Square error of train:\", np.sqrt(metrics.mean_squared_error(y_pred=y_train_svr,y_true=y_train)))"
   ]
  },
  {
   "cell_type": "code",
   "execution_count": null,
   "metadata": {},
   "outputs": [],
   "source": []
  },
  {
   "cell_type": "code",
   "execution_count": null,
   "metadata": {},
   "outputs": [],
   "source": []
  },
  {
   "cell_type": "code",
   "execution_count": null,
   "metadata": {},
   "outputs": [],
   "source": []
  }
 ],
 "metadata": {
  "kernelspec": {
   "display_name": "Python 3",
   "language": "python",
   "name": "python3"
  },
  "language_info": {
   "codemirror_mode": {
    "name": "ipython",
    "version": 3
   },
   "file_extension": ".py",
   "mimetype": "text/x-python",
   "name": "python",
   "nbconvert_exporter": "python",
   "pygments_lexer": "ipython3",
   "version": "3.7.1"
  }
 },
 "nbformat": 4,
 "nbformat_minor": 2
}
